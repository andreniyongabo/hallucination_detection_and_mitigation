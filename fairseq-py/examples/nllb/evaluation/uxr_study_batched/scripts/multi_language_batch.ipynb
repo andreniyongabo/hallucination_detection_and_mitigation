{
 "cells": [
  {
   "cell_type": "code",
   "execution_count": 8,
   "id": "a36bf69d",
   "metadata": {},
   "outputs": [],
   "source": [
    "LANG3_list = [\n",
    "    'ara',\n",
    "    'asm',\n",
    "#     'azj',\n",
    "    'bos',\n",
    "    'bul',\n",
    "    'ceb',\n",
    "#     'zho',\n",
    "    'ces',\n",
    "    'fin',\n",
    "    'kat',\n",
    "#     'deu',\n",
    "    'hau',\n",
    "    'isl',\n",
    "    'jpn',\n",
    "    'kea',\n",
    "    'ell',\n",
    "    'por',\n",
    "#     'ron',\n",
    "#     'rus',\n",
    "    'snd',\n",
    "    'slv',\n",
    "    'swh',\n",
    "    'tel',\n",
    "    'umb',\n",
    "    'urd',\n",
    "    'zul',\n",
    "]\n",
    "\n",
    "LANG2_list = [\n",
    "    'ar',\n",
    "    'as',\n",
    "#     'az',\n",
    "    'bs',\n",
    "    'bg',\n",
    "    'ceb',#cx\n",
    "#     'zh',\n",
    "    'cs',\n",
    "    'fi',\n",
    "    'ka',\n",
    "#     'de',\n",
    "    'ha',\n",
    "    'is',\n",
    "    'ja',\n",
    "    'q3',\n",
    "    'el',\n",
    "    'pt',\n",
    "#     'ro',\n",
    "#     'ru',\n",
    "    'sd',\n",
    "    'sl',\n",
    "    'sw',\n",
    "    'te',\n",
    "    'qm',\n",
    "    'ur',\n",
    "    'zu',\n",
    "]"
   ]
  },
  {
   "cell_type": "code",
   "execution_count": 12,
   "id": "21f93512",
   "metadata": {},
   "outputs": [
    {
     "name": "stdout",
     "output_type": "stream",
     "text": [
      "Langauge code - 3 letter: ara     2 letter: ar\n",
      "Langauge code - 3 letter: asm     2 letter: as\n",
      "Langauge code - 3 letter: azj     2 letter: az\n",
      "Langauge code - 3 letter: bos     2 letter: bs\n",
      "Langauge code - 3 letter: bul     2 letter: bg\n",
      "Langauge code - 3 letter: ceb     2 letter: cx\n",
      "Langauge code - 3 letter: zho     2 letter: zh\n",
      "Langauge code - 3 letter: ces     2 letter: cs\n",
      "Langauge code - 3 letter: fin     2 letter: fi\n",
      "Langauge code - 3 letter: kat     2 letter: ka\n",
      "Langauge code - 3 letter: deu     2 letter: de\n",
      "Langauge code - 3 letter: hau     2 letter: ha\n",
      "Langauge code - 3 letter: isl     2 letter: is\n",
      "Langauge code - 3 letter: jpn     2 letter: ja\n",
      "Langauge code - 3 letter: kea     2 letter: q3\n",
      "Langauge code - 3 letter: ell     2 letter: el\n",
      "Langauge code - 3 letter: por     2 letter: pt\n",
      "Langauge code - 3 letter: ron     2 letter: ro\n",
      "Langauge code - 3 letter: rus     2 letter: ru\n",
      "Langauge code - 3 letter: snd     2 letter: sd\n",
      "Langauge code - 3 letter: slv     2 letter: sl\n",
      "Langauge code - 3 letter: swh     2 letter: sw\n",
      "Langauge code - 3 letter: tel     2 letter: te\n",
      "Langauge code - 3 letter: umb     2 letter: qm\n",
      "Langauge code - 3 letter: urd     2 letter: ur\n",
      "Langauge code - 3 letter: zul     2 letter: zu\n"
     ]
    }
   ],
   "source": [
    "for L_key in zip(LANG2_list,LANG3_list):\n",
    "    LANG2 = L_key[0]\n",
    "    LANG3 = L_key[1]\n",
    "    print(\"Langauge code - 3 letter:\",LANG3, \"    2 letter:\", LANG2)"
   ]
  },
  {
   "cell_type": "code",
   "execution_count": null,
   "id": "9511b901",
   "metadata": {},
   "outputs": [],
   "source": []
  }
 ],
 "metadata": {
  "kernelspec": {
   "display_name": "Python 3",
   "language": "python",
   "name": "python3"
  },
  "language_info": {
   "codemirror_mode": {
    "name": "ipython",
    "version": 3
   },
   "file_extension": ".py",
   "mimetype": "text/x-python",
   "name": "python",
   "nbconvert_exporter": "python",
   "pygments_lexer": "ipython3",
   "version": "3.8.8"
  }
 },
 "nbformat": 4,
 "nbformat_minor": 5
}
