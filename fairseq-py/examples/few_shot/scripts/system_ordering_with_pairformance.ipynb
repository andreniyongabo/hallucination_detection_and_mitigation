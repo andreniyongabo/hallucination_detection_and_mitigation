{
 "cells": [
  {
   "cell_type": "code",
   "execution_count": 3,
   "metadata": {},
   "outputs": [],
   "source": [
    "#!pip install pairformance\n",
    "# "
   ]
  },
  {
   "cell_type": "code",
   "execution_count": 4,
   "metadata": {},
   "outputs": [],
   "source": [
    "from IPython.lib.deepreload import reload\n",
    "%load_ext autoreload\n",
    "%autoreload 2\n",
    "\n",
    "from examples.few_shot.scripts.collect_results import load_results, get_predictions_gold_probability_for_results_file\n",
    "\n",
    "# prediction_gold_scores_hard: List[List[float]] = get_predictions_gold_probability_for_results_file(results_file, soft_scores=False, ensemble=True)"
   ]
  },
  {
   "cell_type": "code",
   "execution_count": 28,
   "metadata": {},
   "outputs": [
    {
     "data": {
      "text/html": [
       "<style>pre { white-space: pre !important; }</style>"
      ],
      "text/plain": [
       "<IPython.core.display.HTML object>"
      ]
     },
     "metadata": {},
     "output_type": "display_data"
    }
   ],
   "source": [
    "import os\n",
    "import pprint\n",
    "import pandas as pd\n",
    "from pandas import DataFrame\n",
    "import sys\n",
    "\n",
    "import pairformance\n",
    "from pairformance import plotting_utils\n",
    "\n",
    "pp = pprint.PrettyPrinter(indent=4)\n",
    "\n",
    "import numpy as np\n",
    "from IPython.core.display import HTML\n",
    "display(HTML(\"<style>pre { white-space: pre !important; }</style>\"))\n",
    "\n",
    "# Filter the rows that we want to evaluate\n",
    "def filter_by(df, constraints, skip_none_filter_vals=True):\n",
    "    \"\"\"Filter MultiIndex by sublevels.\n",
    "       source: https://stackoverflow.com/questions/25224545/filtering-multiple-items-in-a-multi-index-python-panda-dataframe\n",
    "    \"\"\"\n",
    "    constraints = {k: v if isinstance(v, list) else [v] for k,v in constraints.items() if v is not None}\n",
    "    if len(constraints) == 0:\n",
    "        return df\n",
    "    \n",
    "    indexer = [constraints[name] if name in constraints else slice(None)\n",
    "               for name in df.index.names]\n",
    "    return df.loc[tuple(indexer)] if len(df.shape) == 1 else df.loc[tuple(indexer),]\n",
    "\n",
    "pd.Series.filter_by = filter_by\n",
    "pd.DataFrame.filter_by = filter_by"
   ]
  },
  {
   "cell_type": "markdown",
   "metadata": {},
   "source": [
    "# Loading our data "
   ]
  },
  {
   "cell_type": "code",
   "execution_count": 29,
   "metadata": {},
   "outputs": [
    {
     "name": "stdout",
     "output_type": "stream",
     "text": [
      "917 loaded\n"
     ]
    }
   ],
   "source": [
    "# Load our results\n",
    "\n",
    "results_raw_jsonl_list = [\"/checkpoint/victorialin/few_shot/dense_7.5B_lang30_new_cc100_xl_unigram_mutli_tasks_v1/results.tsv.raw.jsonl\",\n",
    "                          \"/checkpoint/victorialin/few_shot/dense_7.5B_lang30_new_cc100_xl_unigram_en_tasks/results.tsv.raw.jsonl\"]\n",
    "\n",
    "results_raw_jsonl_list = [\"/large_experiments/xlmg/results/multilingual/dense_7_5B_30lang_cpts/results.tsv.raw.jsonl\"]\n",
    "all_results = []\n",
    "for results_raw_file in results_raw_jsonl_list:\n",
    "    results, expanded_results, current_tasks_to_groups  = load_results(results_raw_file)\n",
    "    all_results.extend(results)\n",
    "\n",
    "results = all_results\n",
    "print(f\"{len(results)} loaded\")"
   ]
  },
  {
   "cell_type": "markdown",
   "metadata": {},
   "source": [
    "# Process results\n",
    "Filter some columns for faster processing"
   ]
  },
  {
   "cell_type": "code",
   "execution_count": 30,
   "metadata": {},
   "outputs": [
    {
     "data": {
      "text/html": [
       "<div>\n",
       "<style scoped>\n",
       "    .dataframe tbody tr th:only-of-type {\n",
       "        vertical-align: middle;\n",
       "    }\n",
       "\n",
       "    .dataframe tbody tr th {\n",
       "        vertical-align: top;\n",
       "    }\n",
       "\n",
       "    .dataframe thead th {\n",
       "        text-align: right;\n",
       "    }\n",
       "</style>\n",
       "<table border=\"1\" class=\"dataframe\">\n",
       "  <thead>\n",
       "    <tr style=\"text-align: right;\">\n",
       "      <th></th>\n",
       "      <th></th>\n",
       "      <th></th>\n",
       "      <th></th>\n",
       "      <th></th>\n",
       "      <th></th>\n",
       "      <th></th>\n",
       "      <th></th>\n",
       "      <th></th>\n",
       "      <th></th>\n",
       "      <th>_metric_val</th>\n",
       "      <th>_metric_val_std</th>\n",
       "      <th>results_file</th>\n",
       "    </tr>\n",
       "    <tr>\n",
       "      <th>task</th>\n",
       "      <th>language</th>\n",
       "      <th>eval_examples_cnt</th>\n",
       "      <th>eval_set</th>\n",
       "      <th>train_set</th>\n",
       "      <th>train_lang</th>\n",
       "      <th>nb_few_shot_samples</th>\n",
       "      <th>calibration</th>\n",
       "      <th>template</th>\n",
       "      <th>model_name</th>\n",
       "      <th></th>\n",
       "      <th></th>\n",
       "      <th></th>\n",
       "    </tr>\n",
       "  </thead>\n",
       "  <tbody>\n",
       "    <tr>\n",
       "      <th rowspan=\"5\" valign=\"top\">storycloze</th>\n",
       "      <th>en</th>\n",
       "      <th>1871</th>\n",
       "      <th>val2016</th>\n",
       "      <th>val2016</th>\n",
       "      <th>en</th>\n",
       "      <th>0</th>\n",
       "      <th>False</th>\n",
       "      <th>storycloze</th>\n",
       "      <th>dense_7.5B_lang30_new_cc100_xl_unigram__step00005000</th>\n",
       "      <td>58.792090</td>\n",
       "      <td>0.0</td>\n",
       "      <td>/large_experiments/xlmg/results/multilingual/d...</td>\n",
       "    </tr>\n",
       "    <tr>\n",
       "      <th>ru</th>\n",
       "      <th>1871</th>\n",
       "      <th>val2016</th>\n",
       "      <th>val2016</th>\n",
       "      <th>ru</th>\n",
       "      <th>0</th>\n",
       "      <th>False</th>\n",
       "      <th>storycloze</th>\n",
       "      <th>dense_7.5B_lang30_new_cc100_xl_unigram__step00005000</th>\n",
       "      <td>56.012827</td>\n",
       "      <td>0.0</td>\n",
       "      <td>/large_experiments/xlmg/results/multilingual/d...</td>\n",
       "    </tr>\n",
       "    <tr>\n",
       "      <th>zh</th>\n",
       "      <th>1871</th>\n",
       "      <th>val2016</th>\n",
       "      <th>val2016</th>\n",
       "      <th>zh</th>\n",
       "      <th>0</th>\n",
       "      <th>False</th>\n",
       "      <th>storycloze</th>\n",
       "      <th>dense_7.5B_lang30_new_cc100_xl_unigram__step00005000</th>\n",
       "      <td>53.981828</td>\n",
       "      <td>0.0</td>\n",
       "      <td>/large_experiments/xlmg/results/multilingual/d...</td>\n",
       "    </tr>\n",
       "    <tr>\n",
       "      <th>ar</th>\n",
       "      <th>1871</th>\n",
       "      <th>val2016</th>\n",
       "      <th>val2016</th>\n",
       "      <th>ar</th>\n",
       "      <th>0</th>\n",
       "      <th>False</th>\n",
       "      <th>storycloze</th>\n",
       "      <th>dense_7.5B_lang30_new_cc100_xl_unigram__step00005000</th>\n",
       "      <td>49.652592</td>\n",
       "      <td>0.0</td>\n",
       "      <td>/large_experiments/xlmg/results/multilingual/d...</td>\n",
       "    </tr>\n",
       "    <tr>\n",
       "      <th>sw</th>\n",
       "      <th>1871</th>\n",
       "      <th>val2016</th>\n",
       "      <th>val2016</th>\n",
       "      <th>sw</th>\n",
       "      <th>0</th>\n",
       "      <th>False</th>\n",
       "      <th>storycloze</th>\n",
       "      <th>dense_7.5B_lang30_new_cc100_xl_unigram__step00005000</th>\n",
       "      <td>56.440406</td>\n",
       "      <td>0.0</td>\n",
       "      <td>/large_experiments/xlmg/results/multilingual/d...</td>\n",
       "    </tr>\n",
       "    <tr>\n",
       "      <th>...</th>\n",
       "      <th>...</th>\n",
       "      <th>...</th>\n",
       "      <th>...</th>\n",
       "      <th>...</th>\n",
       "      <th>...</th>\n",
       "      <th>...</th>\n",
       "      <th>...</th>\n",
       "      <th>...</th>\n",
       "      <th>...</th>\n",
       "      <td>...</td>\n",
       "      <td>...</td>\n",
       "      <td>...</td>\n",
       "    </tr>\n",
       "    <tr>\n",
       "      <th rowspan=\"5\" valign=\"top\">xwinograd</th>\n",
       "      <th>fr</th>\n",
       "      <th>83</th>\n",
       "      <th>test</th>\n",
       "      <th>test</th>\n",
       "      <th>fr</th>\n",
       "      <th>0</th>\n",
       "      <th>False</th>\n",
       "      <th>winograd</th>\n",
       "      <th>dense_7.5B_lang30_new_cc100_xl_unigram__step00065000</th>\n",
       "      <td>60.240964</td>\n",
       "      <td>0.0</td>\n",
       "      <td>/large_experiments/xlmg/results/multilingual/d...</td>\n",
       "    </tr>\n",
       "    <tr>\n",
       "      <th>jp</th>\n",
       "      <th>959</th>\n",
       "      <th>test</th>\n",
       "      <th>test</th>\n",
       "      <th>jp</th>\n",
       "      <th>0</th>\n",
       "      <th>False</th>\n",
       "      <th>winograd</th>\n",
       "      <th>dense_7.5B_lang30_new_cc100_xl_unigram__step00065000</th>\n",
       "      <td>54.848801</td>\n",
       "      <td>0.0</td>\n",
       "      <td>/large_experiments/xlmg/results/multilingual/d...</td>\n",
       "    </tr>\n",
       "    <tr>\n",
       "      <th>pt</th>\n",
       "      <th>263</th>\n",
       "      <th>test</th>\n",
       "      <th>test</th>\n",
       "      <th>pt</th>\n",
       "      <th>0</th>\n",
       "      <th>False</th>\n",
       "      <th>winograd</th>\n",
       "      <th>dense_7.5B_lang30_new_cc100_xl_unigram__step00065000</th>\n",
       "      <td>57.414449</td>\n",
       "      <td>0.0</td>\n",
       "      <td>/large_experiments/xlmg/results/multilingual/d...</td>\n",
       "    </tr>\n",
       "    <tr>\n",
       "      <th>ru</th>\n",
       "      <th>315</th>\n",
       "      <th>test</th>\n",
       "      <th>test</th>\n",
       "      <th>ru</th>\n",
       "      <th>0</th>\n",
       "      <th>False</th>\n",
       "      <th>winograd</th>\n",
       "      <th>dense_7.5B_lang30_new_cc100_xl_unigram__step00065000</th>\n",
       "      <td>56.825397</td>\n",
       "      <td>0.0</td>\n",
       "      <td>/large_experiments/xlmg/results/multilingual/d...</td>\n",
       "    </tr>\n",
       "    <tr>\n",
       "      <th>zh</th>\n",
       "      <th>16</th>\n",
       "      <th>test</th>\n",
       "      <th>test</th>\n",
       "      <th>zh</th>\n",
       "      <th>0</th>\n",
       "      <th>False</th>\n",
       "      <th>winograd</th>\n",
       "      <th>dense_7.5B_lang30_new_cc100_xl_unigram__step00065000</th>\n",
       "      <td>50.000000</td>\n",
       "      <td>0.0</td>\n",
       "      <td>/large_experiments/xlmg/results/multilingual/d...</td>\n",
       "    </tr>\n",
       "  </tbody>\n",
       "</table>\n",
       "<p>917 rows × 3 columns</p>\n",
       "</div>"
      ],
      "text/plain": [
       "                                                                                                                                                                   _metric_val  \\\n",
       "task       language eval_examples_cnt eval_set train_set train_lang nb_few_shot_samples calibration template   model_name                                                        \n",
       "storycloze en       1871              val2016  val2016   en         0                   False       storycloze dense_7.5B_lang30_new_cc100_xl_unigram__step000...    58.792090   \n",
       "           ru       1871              val2016  val2016   ru         0                   False       storycloze dense_7.5B_lang30_new_cc100_xl_unigram__step000...    56.012827   \n",
       "           zh       1871              val2016  val2016   zh         0                   False       storycloze dense_7.5B_lang30_new_cc100_xl_unigram__step000...    53.981828   \n",
       "           ar       1871              val2016  val2016   ar         0                   False       storycloze dense_7.5B_lang30_new_cc100_xl_unigram__step000...    49.652592   \n",
       "           sw       1871              val2016  val2016   sw         0                   False       storycloze dense_7.5B_lang30_new_cc100_xl_unigram__step000...    56.440406   \n",
       "...                                                                                                                                                                        ...   \n",
       "xwinograd  fr       83                test     test      fr         0                   False       winograd   dense_7.5B_lang30_new_cc100_xl_unigram__step000...    60.240964   \n",
       "           jp       959               test     test      jp         0                   False       winograd   dense_7.5B_lang30_new_cc100_xl_unigram__step000...    54.848801   \n",
       "           pt       263               test     test      pt         0                   False       winograd   dense_7.5B_lang30_new_cc100_xl_unigram__step000...    57.414449   \n",
       "           ru       315               test     test      ru         0                   False       winograd   dense_7.5B_lang30_new_cc100_xl_unigram__step000...    56.825397   \n",
       "           zh       16                test     test      zh         0                   False       winograd   dense_7.5B_lang30_new_cc100_xl_unigram__step000...    50.000000   \n",
       "\n",
       "                                                                                                                                                                   _metric_val_std  \\\n",
       "task       language eval_examples_cnt eval_set train_set train_lang nb_few_shot_samples calibration template   model_name                                                            \n",
       "storycloze en       1871              val2016  val2016   en         0                   False       storycloze dense_7.5B_lang30_new_cc100_xl_unigram__step000...              0.0   \n",
       "           ru       1871              val2016  val2016   ru         0                   False       storycloze dense_7.5B_lang30_new_cc100_xl_unigram__step000...              0.0   \n",
       "           zh       1871              val2016  val2016   zh         0                   False       storycloze dense_7.5B_lang30_new_cc100_xl_unigram__step000...              0.0   \n",
       "           ar       1871              val2016  val2016   ar         0                   False       storycloze dense_7.5B_lang30_new_cc100_xl_unigram__step000...              0.0   \n",
       "           sw       1871              val2016  val2016   sw         0                   False       storycloze dense_7.5B_lang30_new_cc100_xl_unigram__step000...              0.0   \n",
       "...                                                                                                                                                                            ...   \n",
       "xwinograd  fr       83                test     test      fr         0                   False       winograd   dense_7.5B_lang30_new_cc100_xl_unigram__step000...              0.0   \n",
       "           jp       959               test     test      jp         0                   False       winograd   dense_7.5B_lang30_new_cc100_xl_unigram__step000...              0.0   \n",
       "           pt       263               test     test      pt         0                   False       winograd   dense_7.5B_lang30_new_cc100_xl_unigram__step000...              0.0   \n",
       "           ru       315               test     test      ru         0                   False       winograd   dense_7.5B_lang30_new_cc100_xl_unigram__step000...              0.0   \n",
       "           zh       16                test     test      zh         0                   False       winograd   dense_7.5B_lang30_new_cc100_xl_unigram__step000...              0.0   \n",
       "\n",
       "                                                                                                                                                                                                        results_file  \n",
       "task       language eval_examples_cnt eval_set train_set train_lang nb_few_shot_samples calibration template   model_name                                                                                             \n",
       "storycloze en       1871              val2016  val2016   en         0                   False       storycloze dense_7.5B_lang30_new_cc100_xl_unigram__step000...  /large_experiments/xlmg/results/multilingual/d...  \n",
       "           ru       1871              val2016  val2016   ru         0                   False       storycloze dense_7.5B_lang30_new_cc100_xl_unigram__step000...  /large_experiments/xlmg/results/multilingual/d...  \n",
       "           zh       1871              val2016  val2016   zh         0                   False       storycloze dense_7.5B_lang30_new_cc100_xl_unigram__step000...  /large_experiments/xlmg/results/multilingual/d...  \n",
       "           ar       1871              val2016  val2016   ar         0                   False       storycloze dense_7.5B_lang30_new_cc100_xl_unigram__step000...  /large_experiments/xlmg/results/multilingual/d...  \n",
       "           sw       1871              val2016  val2016   sw         0                   False       storycloze dense_7.5B_lang30_new_cc100_xl_unigram__step000...  /large_experiments/xlmg/results/multilingual/d...  \n",
       "...                                                                                                                                                                                                              ...  \n",
       "xwinograd  fr       83                test     test      fr         0                   False       winograd   dense_7.5B_lang30_new_cc100_xl_unigram__step000...  /large_experiments/xlmg/results/multilingual/d...  \n",
       "           jp       959               test     test      jp         0                   False       winograd   dense_7.5B_lang30_new_cc100_xl_unigram__step000...  /large_experiments/xlmg/results/multilingual/d...  \n",
       "           pt       263               test     test      pt         0                   False       winograd   dense_7.5B_lang30_new_cc100_xl_unigram__step000...  /large_experiments/xlmg/results/multilingual/d...  \n",
       "           ru       315               test     test      ru         0                   False       winograd   dense_7.5B_lang30_new_cc100_xl_unigram__step000...  /large_experiments/xlmg/results/multilingual/d...  \n",
       "           zh       16                test     test      zh         0                   False       winograd   dense_7.5B_lang30_new_cc100_xl_unigram__step000...  /large_experiments/xlmg/results/multilingual/d...  \n",
       "\n",
       "[917 rows x 3 columns]"
      ]
     },
     "execution_count": 30,
     "metadata": {},
     "output_type": "execute_result"
    }
   ],
   "source": [
    "# Group by the unique keys\n",
    "\n",
    "df = pd.DataFrame.from_records(results)\n",
    "\n",
    "# these are the fields that we want to group by\n",
    "index_cols = [\"task\", \n",
    "              \"language\",\n",
    "              \"eval_examples_cnt\",\n",
    "              \"eval_set\", \n",
    "              \"train_set\", \n",
    "              \"train_lang\",\n",
    "              \"nb_few_shot_samples\", \n",
    "              \"calibration\",\n",
    "              \"template\",\n",
    "              \"model_name\", # we need the results file to load the predictions\n",
    "             ]\n",
    "value_cols_all = [\"_metric_val\",\n",
    "                  \"_metric_val_std\",\n",
    "              \"results_file\"]  # this is only the preferred value\n",
    "value_cols = [x for x in value_cols_all if x in df.columns]\n",
    "cols = []\n",
    "\n",
    "df_selected = df[index_cols + value_cols + cols]\n",
    "\n",
    "# debug - group by\n",
    "# pt = pd.pivot_table(df_selected, values=value_cols, index=index_cols,\n",
    "#                    columns=cols, aggfunc=[np.mean])\n",
    "# pt = pt.swaplevel(1, 2, axis=1).sort_index(axis=1)\n",
    "# pt\n",
    "\n",
    "df_selected = df_selected.set_index(index_cols)  # this is for easy filtering\n",
    "df_selected\n"
   ]
  },
  {
   "cell_type": "markdown",
   "metadata": {},
   "source": [
    "# Filter data \n",
    "Filter here to improve the performance.\n",
    "We will do pairwise comparison!  "
   ]
  },
  {
   "cell_type": "code",
   "execution_count": 33,
   "metadata": {},
   "outputs": [
    {
     "data": {
      "text/html": [
       "<div>\n",
       "<style scoped>\n",
       "    .dataframe tbody tr th:only-of-type {\n",
       "        vertical-align: middle;\n",
       "    }\n",
       "\n",
       "    .dataframe tbody tr th {\n",
       "        vertical-align: top;\n",
       "    }\n",
       "\n",
       "    .dataframe thead th {\n",
       "        text-align: right;\n",
       "    }\n",
       "</style>\n",
       "<table border=\"1\" class=\"dataframe\">\n",
       "  <thead>\n",
       "    <tr style=\"text-align: right;\">\n",
       "      <th></th>\n",
       "      <th></th>\n",
       "      <th></th>\n",
       "      <th></th>\n",
       "      <th></th>\n",
       "      <th></th>\n",
       "      <th></th>\n",
       "      <th></th>\n",
       "      <th></th>\n",
       "      <th></th>\n",
       "      <th>_metric_val</th>\n",
       "      <th>_metric_val_std</th>\n",
       "      <th>results_file</th>\n",
       "    </tr>\n",
       "    <tr>\n",
       "      <th>task</th>\n",
       "      <th>language</th>\n",
       "      <th>eval_examples_cnt</th>\n",
       "      <th>eval_set</th>\n",
       "      <th>train_set</th>\n",
       "      <th>train_lang</th>\n",
       "      <th>nb_few_shot_samples</th>\n",
       "      <th>calibration</th>\n",
       "      <th>template</th>\n",
       "      <th>model_name</th>\n",
       "      <th></th>\n",
       "      <th></th>\n",
       "      <th></th>\n",
       "    </tr>\n",
       "  </thead>\n",
       "  <tbody>\n",
       "    <tr>\n",
       "      <th rowspan=\"7\" valign=\"top\">storycloze</th>\n",
       "      <th rowspan=\"7\" valign=\"top\">en</th>\n",
       "      <th rowspan=\"7\" valign=\"top\">1871</th>\n",
       "      <th rowspan=\"7\" valign=\"top\">val2016</th>\n",
       "      <th rowspan=\"7\" valign=\"top\">val2016</th>\n",
       "      <th rowspan=\"7\" valign=\"top\">en</th>\n",
       "      <th rowspan=\"7\" valign=\"top\">0</th>\n",
       "      <th rowspan=\"7\" valign=\"top\">False</th>\n",
       "      <th rowspan=\"7\" valign=\"top\">storycloze</th>\n",
       "      <th>dense_7.5B_lang30_new_cc100_xl_unigram__step00005000</th>\n",
       "      <td>58.792090</td>\n",
       "      <td>0.0</td>\n",
       "      <td>/large_experiments/xlmg/results/multilingual/d...</td>\n",
       "    </tr>\n",
       "    <tr>\n",
       "      <th>dense_7.5B_lang30_new_cc100_xl_unigram__step00015000</th>\n",
       "      <td>66.541956</td>\n",
       "      <td>0.0</td>\n",
       "      <td>/large_experiments/xlmg/results/multilingual/d...</td>\n",
       "    </tr>\n",
       "    <tr>\n",
       "      <th>dense_7.5B_lang30_new_cc100_xl_unigram__step00030000</th>\n",
       "      <td>69.695350</td>\n",
       "      <td>0.0</td>\n",
       "      <td>/large_experiments/xlmg/results/multilingual/d...</td>\n",
       "    </tr>\n",
       "    <tr>\n",
       "      <th>dense_7.5B_lang30_new_cc100_xl_unigram__step00050000</th>\n",
       "      <td>71.298771</td>\n",
       "      <td>0.0</td>\n",
       "      <td>/large_experiments/xlmg/results/multilingual/d...</td>\n",
       "    </tr>\n",
       "    <tr>\n",
       "      <th>dense_7.5B_lang30_new_cc100_xl_unigram__step00055000</th>\n",
       "      <td>71.619455</td>\n",
       "      <td>0.0</td>\n",
       "      <td>/large_experiments/xlmg/results/multilingual/d...</td>\n",
       "    </tr>\n",
       "    <tr>\n",
       "      <th>dense_7.5B_lang30_new_cc100_xl_unigram__step00060000</th>\n",
       "      <td>72.528060</td>\n",
       "      <td>0.0</td>\n",
       "      <td>/large_experiments/xlmg/results/multilingual/d...</td>\n",
       "    </tr>\n",
       "    <tr>\n",
       "      <th>dense_7.5B_lang30_new_cc100_xl_unigram__step00065000</th>\n",
       "      <td>72.474613</td>\n",
       "      <td>0.0</td>\n",
       "      <td>/large_experiments/xlmg/results/multilingual/d...</td>\n",
       "    </tr>\n",
       "  </tbody>\n",
       "</table>\n",
       "</div>"
      ],
      "text/plain": [
       "                                                                                                                                                                   _metric_val  \\\n",
       "task       language eval_examples_cnt eval_set train_set train_lang nb_few_shot_samples calibration template   model_name                                                        \n",
       "storycloze en       1871              val2016  val2016   en         0                   False       storycloze dense_7.5B_lang30_new_cc100_xl_unigram__step000...    58.792090   \n",
       "                                                                                                               dense_7.5B_lang30_new_cc100_xl_unigram__step000...    66.541956   \n",
       "                                                                                                               dense_7.5B_lang30_new_cc100_xl_unigram__step000...    69.695350   \n",
       "                                                                                                               dense_7.5B_lang30_new_cc100_xl_unigram__step000...    71.298771   \n",
       "                                                                                                               dense_7.5B_lang30_new_cc100_xl_unigram__step000...    71.619455   \n",
       "                                                                                                               dense_7.5B_lang30_new_cc100_xl_unigram__step000...    72.528060   \n",
       "                                                                                                               dense_7.5B_lang30_new_cc100_xl_unigram__step000...    72.474613   \n",
       "\n",
       "                                                                                                                                                                   _metric_val_std  \\\n",
       "task       language eval_examples_cnt eval_set train_set train_lang nb_few_shot_samples calibration template   model_name                                                            \n",
       "storycloze en       1871              val2016  val2016   en         0                   False       storycloze dense_7.5B_lang30_new_cc100_xl_unigram__step000...              0.0   \n",
       "                                                                                                               dense_7.5B_lang30_new_cc100_xl_unigram__step000...              0.0   \n",
       "                                                                                                               dense_7.5B_lang30_new_cc100_xl_unigram__step000...              0.0   \n",
       "                                                                                                               dense_7.5B_lang30_new_cc100_xl_unigram__step000...              0.0   \n",
       "                                                                                                               dense_7.5B_lang30_new_cc100_xl_unigram__step000...              0.0   \n",
       "                                                                                                               dense_7.5B_lang30_new_cc100_xl_unigram__step000...              0.0   \n",
       "                                                                                                               dense_7.5B_lang30_new_cc100_xl_unigram__step000...              0.0   \n",
       "\n",
       "                                                                                                                                                                                                        results_file  \n",
       "task       language eval_examples_cnt eval_set train_set train_lang nb_few_shot_samples calibration template   model_name                                                                                             \n",
       "storycloze en       1871              val2016  val2016   en         0                   False       storycloze dense_7.5B_lang30_new_cc100_xl_unigram__step000...  /large_experiments/xlmg/results/multilingual/d...  \n",
       "                                                                                                               dense_7.5B_lang30_new_cc100_xl_unigram__step000...  /large_experiments/xlmg/results/multilingual/d...  \n",
       "                                                                                                               dense_7.5B_lang30_new_cc100_xl_unigram__step000...  /large_experiments/xlmg/results/multilingual/d...  \n",
       "                                                                                                               dense_7.5B_lang30_new_cc100_xl_unigram__step000...  /large_experiments/xlmg/results/multilingual/d...  \n",
       "                                                                                                               dense_7.5B_lang30_new_cc100_xl_unigram__step000...  /large_experiments/xlmg/results/multilingual/d...  \n",
       "                                                                                                               dense_7.5B_lang30_new_cc100_xl_unigram__step000...  /large_experiments/xlmg/results/multilingual/d...  \n",
       "                                                                                                               dense_7.5B_lang30_new_cc100_xl_unigram__step000...  /large_experiments/xlmg/results/multilingual/d...  "
      ]
     },
     "execution_count": 33,
     "metadata": {},
     "output_type": "execute_result"
    }
   ],
   "source": [
    "\n",
    "filter_json = {\n",
    "    'task': [\"storycloze\"], \n",
    "    'language': [\"en\"], \n",
    "    'eval_examples_cnt': None, \n",
    "    'eval_set': None, \n",
    "    'train_set': None,\n",
    "    'train_lang': None, \n",
    "    'nb_few_shot_samples': None, \n",
    "    'calibration': None, \n",
    "    'template': None,\n",
    "    'model_name': None\n",
    "}\n",
    "\n",
    "\n",
    "\n",
    "df_filtered = df_selected.filter_by(\n",
    "    filter_json\n",
    ")\n",
    "# df_filtered.to_csv(\"results_debug.tsv\")\n",
    "df_filtered"
   ]
  },
  {
   "cell_type": "markdown",
   "metadata": {},
   "source": [
    "### Load example data"
   ]
  },
  {
   "cell_type": "code",
   "execution_count": 34,
   "metadata": {},
   "outputs": [],
   "source": [
    "predictions_by_index = {}\n",
    "\n",
    "for index, row in df_filtered.iterrows():\n",
    "    if index in predictions_by_index:\n",
    "        # only unique values\n",
    "        continue\n",
    "    results_file = row[\"results_file\"]\n",
    "    if not os.path.exists(results_file):\n",
    "        print(\"Does not exist:\" + row[\"results_file\"])\n",
    "        continue\n",
    "    \n",
    "    prediction_gold_scores_correct = get_predictions_gold_probability_for_results_file(results_file, \n",
    "                                                                               soft_scores=False, # False == IsCorrect\n",
    "                                                                               ensemble=\"mean\") # this will ensemble\n",
    "    predictions_by_index[index] = prediction_gold_scores_correct\n",
    "\n"
   ]
  },
  {
   "cell_type": "code",
   "execution_count": 26,
   "metadata": {},
   "outputs": [
    {
     "ename": "FileNotFoundError",
     "evalue": "[Errno 2] No such file or directory: 'dialogue_example_df.csv'",
     "output_type": "error",
     "traceback": [
      "\u001b[0;31m---------------------------------------------------------------------------\u001b[0m",
      "\u001b[0;31mFileNotFoundError\u001b[0m                         Traceback (most recent call last)",
      "\u001b[0;32m<ipython-input-26-aa47f5d580d0>\u001b[0m in \u001b[0;36m<module>\u001b[0;34m\u001b[0m\n\u001b[0;32m----> 1\u001b[0;31m \u001b[0meval_df\u001b[0m \u001b[0;34m=\u001b[0m \u001b[0mpd\u001b[0m\u001b[0;34m.\u001b[0m\u001b[0mread_csv\u001b[0m\u001b[0;34m(\u001b[0m\u001b[0;34m'dialogue_example_df.csv'\u001b[0m\u001b[0;34m)\u001b[0m\u001b[0;34m\u001b[0m\u001b[0;34m\u001b[0m\u001b[0m\n\u001b[0m\u001b[1;32m      2\u001b[0m \u001b[0meval_df\u001b[0m\u001b[0;34m.\u001b[0m\u001b[0mhead\u001b[0m\u001b[0;34m(\u001b[0m\u001b[0;34m)\u001b[0m\u001b[0;34m\u001b[0m\u001b[0;34m\u001b[0m\u001b[0m\n",
      "\u001b[0;32m~/.conda/envs/fairseq-20210102/lib/python3.8/site-packages/pandas/io/parsers.py\u001b[0m in \u001b[0;36mread_csv\u001b[0;34m(filepath_or_buffer, sep, delimiter, header, names, index_col, usecols, squeeze, prefix, mangle_dupe_cols, dtype, engine, converters, true_values, false_values, skipinitialspace, skiprows, skipfooter, nrows, na_values, keep_default_na, na_filter, verbose, skip_blank_lines, parse_dates, infer_datetime_format, keep_date_col, date_parser, dayfirst, cache_dates, iterator, chunksize, compression, thousands, decimal, lineterminator, quotechar, quoting, doublequote, escapechar, comment, encoding, dialect, error_bad_lines, warn_bad_lines, delim_whitespace, low_memory, memory_map, float_precision, storage_options)\u001b[0m\n\u001b[1;32m    608\u001b[0m     \u001b[0mkwds\u001b[0m\u001b[0;34m.\u001b[0m\u001b[0mupdate\u001b[0m\u001b[0;34m(\u001b[0m\u001b[0mkwds_defaults\u001b[0m\u001b[0;34m)\u001b[0m\u001b[0;34m\u001b[0m\u001b[0;34m\u001b[0m\u001b[0m\n\u001b[1;32m    609\u001b[0m \u001b[0;34m\u001b[0m\u001b[0m\n\u001b[0;32m--> 610\u001b[0;31m     \u001b[0;32mreturn\u001b[0m \u001b[0m_read\u001b[0m\u001b[0;34m(\u001b[0m\u001b[0mfilepath_or_buffer\u001b[0m\u001b[0;34m,\u001b[0m \u001b[0mkwds\u001b[0m\u001b[0;34m)\u001b[0m\u001b[0;34m\u001b[0m\u001b[0;34m\u001b[0m\u001b[0m\n\u001b[0m\u001b[1;32m    611\u001b[0m \u001b[0;34m\u001b[0m\u001b[0m\n\u001b[1;32m    612\u001b[0m \u001b[0;34m\u001b[0m\u001b[0m\n",
      "\u001b[0;32m~/.conda/envs/fairseq-20210102/lib/python3.8/site-packages/pandas/io/parsers.py\u001b[0m in \u001b[0;36m_read\u001b[0;34m(filepath_or_buffer, kwds)\u001b[0m\n\u001b[1;32m    460\u001b[0m \u001b[0;34m\u001b[0m\u001b[0m\n\u001b[1;32m    461\u001b[0m     \u001b[0;31m# Create the parser.\u001b[0m\u001b[0;34m\u001b[0m\u001b[0;34m\u001b[0m\u001b[0;34m\u001b[0m\u001b[0m\n\u001b[0;32m--> 462\u001b[0;31m     \u001b[0mparser\u001b[0m \u001b[0;34m=\u001b[0m \u001b[0mTextFileReader\u001b[0m\u001b[0;34m(\u001b[0m\u001b[0mfilepath_or_buffer\u001b[0m\u001b[0;34m,\u001b[0m \u001b[0;34m**\u001b[0m\u001b[0mkwds\u001b[0m\u001b[0;34m)\u001b[0m\u001b[0;34m\u001b[0m\u001b[0;34m\u001b[0m\u001b[0m\n\u001b[0m\u001b[1;32m    463\u001b[0m \u001b[0;34m\u001b[0m\u001b[0m\n\u001b[1;32m    464\u001b[0m     \u001b[0;32mif\u001b[0m \u001b[0mchunksize\u001b[0m \u001b[0;32mor\u001b[0m \u001b[0miterator\u001b[0m\u001b[0;34m:\u001b[0m\u001b[0;34m\u001b[0m\u001b[0;34m\u001b[0m\u001b[0m\n",
      "\u001b[0;32m~/.conda/envs/fairseq-20210102/lib/python3.8/site-packages/pandas/io/parsers.py\u001b[0m in \u001b[0;36m__init__\u001b[0;34m(self, f, engine, **kwds)\u001b[0m\n\u001b[1;32m    817\u001b[0m             \u001b[0mself\u001b[0m\u001b[0;34m.\u001b[0m\u001b[0moptions\u001b[0m\u001b[0;34m[\u001b[0m\u001b[0;34m\"has_index_names\"\u001b[0m\u001b[0;34m]\u001b[0m \u001b[0;34m=\u001b[0m \u001b[0mkwds\u001b[0m\u001b[0;34m[\u001b[0m\u001b[0;34m\"has_index_names\"\u001b[0m\u001b[0;34m]\u001b[0m\u001b[0;34m\u001b[0m\u001b[0;34m\u001b[0m\u001b[0m\n\u001b[1;32m    818\u001b[0m \u001b[0;34m\u001b[0m\u001b[0m\n\u001b[0;32m--> 819\u001b[0;31m         \u001b[0mself\u001b[0m\u001b[0;34m.\u001b[0m\u001b[0m_engine\u001b[0m \u001b[0;34m=\u001b[0m \u001b[0mself\u001b[0m\u001b[0;34m.\u001b[0m\u001b[0m_make_engine\u001b[0m\u001b[0;34m(\u001b[0m\u001b[0mself\u001b[0m\u001b[0;34m.\u001b[0m\u001b[0mengine\u001b[0m\u001b[0;34m)\u001b[0m\u001b[0;34m\u001b[0m\u001b[0;34m\u001b[0m\u001b[0m\n\u001b[0m\u001b[1;32m    820\u001b[0m \u001b[0;34m\u001b[0m\u001b[0m\n\u001b[1;32m    821\u001b[0m     \u001b[0;32mdef\u001b[0m \u001b[0mclose\u001b[0m\u001b[0;34m(\u001b[0m\u001b[0mself\u001b[0m\u001b[0;34m)\u001b[0m\u001b[0;34m:\u001b[0m\u001b[0;34m\u001b[0m\u001b[0;34m\u001b[0m\u001b[0m\n",
      "\u001b[0;32m~/.conda/envs/fairseq-20210102/lib/python3.8/site-packages/pandas/io/parsers.py\u001b[0m in \u001b[0;36m_make_engine\u001b[0;34m(self, engine)\u001b[0m\n\u001b[1;32m   1048\u001b[0m             )\n\u001b[1;32m   1049\u001b[0m         \u001b[0;31m# error: Too many arguments for \"ParserBase\"\u001b[0m\u001b[0;34m\u001b[0m\u001b[0;34m\u001b[0m\u001b[0;34m\u001b[0m\u001b[0m\n\u001b[0;32m-> 1050\u001b[0;31m         \u001b[0;32mreturn\u001b[0m \u001b[0mmapping\u001b[0m\u001b[0;34m[\u001b[0m\u001b[0mengine\u001b[0m\u001b[0;34m]\u001b[0m\u001b[0;34m(\u001b[0m\u001b[0mself\u001b[0m\u001b[0;34m.\u001b[0m\u001b[0mf\u001b[0m\u001b[0;34m,\u001b[0m \u001b[0;34m**\u001b[0m\u001b[0mself\u001b[0m\u001b[0;34m.\u001b[0m\u001b[0moptions\u001b[0m\u001b[0;34m)\u001b[0m  \u001b[0;31m# type: ignore[call-arg]\u001b[0m\u001b[0;34m\u001b[0m\u001b[0;34m\u001b[0m\u001b[0m\n\u001b[0m\u001b[1;32m   1051\u001b[0m \u001b[0;34m\u001b[0m\u001b[0m\n\u001b[1;32m   1052\u001b[0m     \u001b[0;32mdef\u001b[0m \u001b[0m_failover_to_python\u001b[0m\u001b[0;34m(\u001b[0m\u001b[0mself\u001b[0m\u001b[0;34m)\u001b[0m\u001b[0;34m:\u001b[0m\u001b[0;34m\u001b[0m\u001b[0;34m\u001b[0m\u001b[0m\n",
      "\u001b[0;32m~/.conda/envs/fairseq-20210102/lib/python3.8/site-packages/pandas/io/parsers.py\u001b[0m in \u001b[0;36m__init__\u001b[0;34m(self, src, **kwds)\u001b[0m\n\u001b[1;32m   1865\u001b[0m \u001b[0;34m\u001b[0m\u001b[0m\n\u001b[1;32m   1866\u001b[0m         \u001b[0;31m# open handles\u001b[0m\u001b[0;34m\u001b[0m\u001b[0;34m\u001b[0m\u001b[0;34m\u001b[0m\u001b[0m\n\u001b[0;32m-> 1867\u001b[0;31m         \u001b[0mself\u001b[0m\u001b[0;34m.\u001b[0m\u001b[0m_open_handles\u001b[0m\u001b[0;34m(\u001b[0m\u001b[0msrc\u001b[0m\u001b[0;34m,\u001b[0m \u001b[0mkwds\u001b[0m\u001b[0;34m)\u001b[0m\u001b[0;34m\u001b[0m\u001b[0;34m\u001b[0m\u001b[0m\n\u001b[0m\u001b[1;32m   1868\u001b[0m         \u001b[0;32massert\u001b[0m \u001b[0mself\u001b[0m\u001b[0;34m.\u001b[0m\u001b[0mhandles\u001b[0m \u001b[0;32mis\u001b[0m \u001b[0;32mnot\u001b[0m \u001b[0;32mNone\u001b[0m\u001b[0;34m\u001b[0m\u001b[0;34m\u001b[0m\u001b[0m\n\u001b[1;32m   1869\u001b[0m         \u001b[0;32mfor\u001b[0m \u001b[0mkey\u001b[0m \u001b[0;32min\u001b[0m \u001b[0;34m(\u001b[0m\u001b[0;34m\"storage_options\"\u001b[0m\u001b[0;34m,\u001b[0m \u001b[0;34m\"encoding\"\u001b[0m\u001b[0;34m,\u001b[0m \u001b[0;34m\"memory_map\"\u001b[0m\u001b[0;34m,\u001b[0m \u001b[0;34m\"compression\"\u001b[0m\u001b[0;34m)\u001b[0m\u001b[0;34m:\u001b[0m\u001b[0;34m\u001b[0m\u001b[0;34m\u001b[0m\u001b[0m\n",
      "\u001b[0;32m~/.conda/envs/fairseq-20210102/lib/python3.8/site-packages/pandas/io/parsers.py\u001b[0m in \u001b[0;36m_open_handles\u001b[0;34m(self, src, kwds)\u001b[0m\n\u001b[1;32m   1360\u001b[0m         \u001b[0mLet\u001b[0m \u001b[0mthe\u001b[0m \u001b[0mreaders\u001b[0m \u001b[0mopen\u001b[0m \u001b[0mIOHanldes\u001b[0m \u001b[0mafter\u001b[0m \u001b[0mthey\u001b[0m \u001b[0mare\u001b[0m \u001b[0mdone\u001b[0m \u001b[0;32mwith\u001b[0m \u001b[0mtheir\u001b[0m \u001b[0mpotential\u001b[0m \u001b[0mraises\u001b[0m\u001b[0;34m.\u001b[0m\u001b[0;34m\u001b[0m\u001b[0;34m\u001b[0m\u001b[0m\n\u001b[1;32m   1361\u001b[0m         \"\"\"\n\u001b[0;32m-> 1362\u001b[0;31m         self.handles = get_handle(\n\u001b[0m\u001b[1;32m   1363\u001b[0m             \u001b[0msrc\u001b[0m\u001b[0;34m,\u001b[0m\u001b[0;34m\u001b[0m\u001b[0;34m\u001b[0m\u001b[0m\n\u001b[1;32m   1364\u001b[0m             \u001b[0;34m\"r\"\u001b[0m\u001b[0;34m,\u001b[0m\u001b[0;34m\u001b[0m\u001b[0;34m\u001b[0m\u001b[0m\n",
      "\u001b[0;32m~/.conda/envs/fairseq-20210102/lib/python3.8/site-packages/pandas/io/common.py\u001b[0m in \u001b[0;36mget_handle\u001b[0;34m(path_or_buf, mode, encoding, compression, memory_map, is_text, errors, storage_options)\u001b[0m\n\u001b[1;32m    640\u001b[0m                 \u001b[0merrors\u001b[0m \u001b[0;34m=\u001b[0m \u001b[0;34m\"replace\"\u001b[0m\u001b[0;34m\u001b[0m\u001b[0;34m\u001b[0m\u001b[0m\n\u001b[1;32m    641\u001b[0m             \u001b[0;31m# Encoding\u001b[0m\u001b[0;34m\u001b[0m\u001b[0;34m\u001b[0m\u001b[0;34m\u001b[0m\u001b[0m\n\u001b[0;32m--> 642\u001b[0;31m             handle = open(\n\u001b[0m\u001b[1;32m    643\u001b[0m                 \u001b[0mhandle\u001b[0m\u001b[0;34m,\u001b[0m\u001b[0;34m\u001b[0m\u001b[0;34m\u001b[0m\u001b[0m\n\u001b[1;32m    644\u001b[0m                 \u001b[0mioargs\u001b[0m\u001b[0;34m.\u001b[0m\u001b[0mmode\u001b[0m\u001b[0;34m,\u001b[0m\u001b[0;34m\u001b[0m\u001b[0;34m\u001b[0m\u001b[0m\n",
      "\u001b[0;31mFileNotFoundError\u001b[0m: [Errno 2] No such file or directory: 'dialogue_example_df.csv'"
     ]
    }
   ],
   "source": [
    "eval_df = pd.read_csv('dialogue_example_df.csv')\n",
    "eval_df.head()"
   ]
  },
  {
   "cell_type": "code",
   "execution_count": null,
   "metadata": {},
   "outputs": [],
   "source": [
    "print(f\" Systems: {eval_df.columns.to_list()},\\n number of test instances: {eval_df.shape[0]}\")"
   ]
  },
  {
   "cell_type": "markdown",
   "metadata": {},
   "source": [
    "## Start Pairformance"
   ]
  },
  {
   "cell_type": "code",
   "execution_count": null,
   "metadata": {},
   "outputs": [],
   "source": [
    "print(\"Default config:\")\n",
    "pp.pprint(pairformance.DEFAULT_CONFIG)"
   ]
  },
  {
   "cell_type": "markdown",
   "metadata": {},
   "source": [
    "- `aggregations`: a list of aggregation mechanisms to consider\n",
    "- `compute_pairwise`: whether to run the analyses for each pair of systems\n",
    "- `epsilon_bt`: when the iterative algorithm of BT does not vary by more than epsilon_bt, we stop.\n",
    "- `n_bootstrap`: number of bootstrap resample of the data to take to compute confidence intervals\n",
    "- `pval_threshold`: percentile to use for confidence interval. Example: 0.05 gives the (5, 95) percentiles."
   ]
  },
  {
   "cell_type": "code",
   "execution_count": null,
   "metadata": {},
   "outputs": [],
   "source": []
  },
  {
   "cell_type": "code",
   "execution_count": null,
   "metadata": {},
   "outputs": [],
   "source": [
    "pf_config = pairformance.DEFAULT_CONFIG\n",
    "pf_config['n_bootstrap'] = 10\n",
    "\n",
    "pf_eval = pairformance.Pairformance(df=eval_df, config=pf_config)"
   ]
  },
  {
   "cell_type": "markdown",
   "metadata": {},
   "source": [
    "## Default Usage"
   ]
  },
  {
   "cell_type": "code",
   "execution_count": null,
   "metadata": {},
   "outputs": [],
   "source": [
    "results = pf_eval.eval()\n",
    "global_results = pf_eval.print_global_results()\n",
    "pairwise_results = pf_eval.print_pairwise_results()"
   ]
  },
  {
   "cell_type": "markdown",
   "metadata": {},
   "source": [
    "### Description of the returned variables\n",
    "\n",
    "**Outputs from pf_eval.eval()**:\n",
    "- `results['global-results']`: contains the global estimates for each aggregation mechanism defined in the config\n",
    "- `results['global-results'][Agg]`: is a pd.DataFrame with n_bootstrap row, one row for one resampled estimate\n",
    "- `results['pairwise-results']`: contains the pairwise comparison for each pair of systems\n",
    "\n",
    "**Outputs from self.print_global_results()**: the same information as `results['global-results']` but with the confidence intervals computed from the resampled estimates.\n",
    "\n",
    "**Outputs from self.print_pairwise_results()**: the same information as `results['pairwise-results']` but with the confidence intervals computed from the resampled estimates"
   ]
  },
  {
   "cell_type": "markdown",
   "metadata": {},
   "source": [
    "## Probability that one system is better than other"
   ]
  },
  {
   "cell_type": "code",
   "execution_count": null,
   "metadata": {},
   "outputs": [],
   "source": [
    "p_m0_m1, pval_m0_m1 = pf_eval.prob_a_better_b('M0', 'M1')\n",
    "print(f\"Prob that M0 is better than M1 {p_m0_m1}, pval {pval_m0_m1}\")"
   ]
  },
  {
   "cell_type": "markdown",
   "metadata": {},
   "source": [
    "## Visualization of results"
   ]
  },
  {
   "cell_type": "code",
   "execution_count": null,
   "metadata": {},
   "outputs": [],
   "source": [
    "## Plot the distribution of BT estimates coming from bootstrap resamples\n",
    "plotting_utils.plot_global_results(pf_eval, aggregation='BT')"
   ]
  },
  {
   "cell_type": "code",
   "execution_count": null,
   "metadata": {},
   "outputs": [],
   "source": [
    "## Plot the distribution of mean estimates coming from bootstrap resamples\n",
    "plotting_utils.plot_global_results(pf_eval, aggregation='Mean')"
   ]
  },
  {
   "cell_type": "code",
   "execution_count": null,
   "metadata": {},
   "outputs": [],
   "source": [
    "## Plot pairwise structure for BT (BT pairwise is different than BT global)\n",
    "plotting_utils.plot_matrix_results(pf_eval, aggregation='BT', fontsize=13, save_path=None)"
   ]
  },
  {
   "cell_type": "markdown",
   "metadata": {},
   "source": [
    "In this matrix, the element at row i and column j is the probability that the system of row i is better than the system of column j\n",
    "\n",
    "The star marks statistically significant difference according to the sign test (for BT)"
   ]
  },
  {
   "cell_type": "code",
   "execution_count": null,
   "metadata": {},
   "outputs": [],
   "source": [
    "plotting_utils.plot_matrix_results(pf_eval, aggregation='Median', fontsize=13, save_path=None)"
   ]
  },
  {
   "cell_type": "markdown",
   "metadata": {},
   "source": [
    "In this matrix, the element at row i and column j is the difference between the median of system of row i and the system of column j\n",
    "The star marks statistically significant difference according to the Mood\\'s median test (for Median)"
   ]
  },
  {
   "cell_type": "markdown",
   "metadata": {},
   "source": [
    "## Diagnostic capabilities"
   ]
  },
  {
   "cell_type": "markdown",
   "metadata": {},
   "source": [
    "### Computing statistics of the system scores\n",
    "\n",
    "- `global-outliers-percentage`: take the whole array of data and compute the percentage of outliers\n",
    "- `per-system-outliers-percentage`: percentage of outliers for each system independently\n",
    "- `mean-row-std`: measure the std per test instance, then average this std across test instances, i.e., how much variance is there across system \n",
    "- `rank-std-across-rows`: computes the order of systems per test instance, and measure how much the ranking varies across test instances, i.e., how much variance is there across ranking of systems\n",
    "- `std-of-row-means`: computes the mean score of each test instance (across systems) and measure the std across test instances, i.e., how much overall scores vary across test instances"
   ]
  },
  {
   "cell_type": "code",
   "execution_count": null,
   "metadata": {},
   "outputs": [],
   "source": [
    "pp.pprint(pf_eval.diagnostic_system_scores(eval_df))"
   ]
  },
  {
   "cell_type": "markdown",
   "metadata": {},
   "source": [
    "### Computing disagreements between the aggregation mechanisms for this data\n",
    "\n",
    "In this case, we observe that there is good agreement between mean, median, and BT"
   ]
  },
  {
   "cell_type": "code",
   "execution_count": null,
   "metadata": {},
   "outputs": [],
   "source": [
    "_ = pf_eval.diagnostic_aggregation_agreement()"
   ]
  },
  {
   "cell_type": "markdown",
   "metadata": {},
   "source": [
    "### plotting paired graph\n",
    "\n",
    "It show the paired structure of a pair of system. \n",
    "Each dot is one test instances whose coordinates are given by the score it receives according to the two systems.\n",
    "This is shown as a density plot, if more density is above the dotted line the y-axis system is better according to BT.\n",
    "Otherwise, the x-axis system is better according to BT.\n",
    "See paper for more details!\n",
    "\n",
    "In this case, the medians intersects below the dotted line, i.e., Median makes M1 better\n",
    "More mass is on the space above the dotted line, i.e., BT makes M2 better\n",
    "The means intersect on the dotted line, i.e., Mean does not distinguish between M2 and M1"
   ]
  },
  {
   "cell_type": "code",
   "execution_count": null,
   "metadata": {},
   "outputs": [],
   "source": [
    "plotting_utils.plot_paired_graphs(eval_df, 'M2', 'M1')"
   ]
  },
  {
   "cell_type": "code",
   "execution_count": null,
   "metadata": {},
   "outputs": [],
   "source": []
  }
 ],
 "metadata": {
  "hide_input": false,
  "kernelspec": {
   "display_name": "fairseq-20210102",
   "language": "python",
   "name": "fairseq-20210102"
  },
  "language_info": {
   "codemirror_mode": {
    "name": "ipython",
    "version": 3
   },
   "file_extension": ".py",
   "mimetype": "text/x-python",
   "name": "python",
   "nbconvert_exporter": "python",
   "pygments_lexer": "ipython3",
   "version": "3.8.5"
  },
  "latex_envs": {
   "LaTeX_envs_menu_present": true,
   "autoclose": false,
   "autocomplete": true,
   "bibliofile": "biblio.bib",
   "cite_by": "apalike",
   "current_citInitial": 1,
   "eqLabelWithNumbers": true,
   "eqNumInitial": 1,
   "hotkeys": {
    "equation": "Ctrl-E",
    "itemize": "Ctrl-I"
   },
   "labels_anchors": false,
   "latex_user_defs": false,
   "report_style_numbering": false,
   "user_envs_cfg": false
  }
 },
 "nbformat": 4,
 "nbformat_minor": 4
}
