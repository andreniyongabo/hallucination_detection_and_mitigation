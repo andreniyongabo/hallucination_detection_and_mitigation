{
 "cells": [
  {
   "cell_type": "markdown",
   "metadata": {},
   "source": [
    "# Process `copa` for translations"
   ]
  },
  {
   "cell_type": "code",
   "execution_count": 2,
   "metadata": {},
   "outputs": [
    {
     "name": "stdout",
     "output_type": "stream",
     "text": [
      "{'premise': 'The man turned on the faucet.', 'choice1': 'The toilet filled with water.', 'choice2': 'Water flowed from the spout.', 'question': 'effect', 'label': 1, 'idx': 0}\n"
     ]
    }
   ],
   "source": [
    "import csv\n",
    "import os\n",
    "import json\n",
    "res_output_path = \"_data/\"\n",
    "os.makedirs(res_output_path, exist_ok=True)\n",
    "\n",
    "input_path = \"/private/home/tbmihaylov/fairseq-xlmg/examples/few_shot/data/SuperGLUE/COPA/val.jsonl\"\n",
    "#input_path = \"/private/home/tbmihaylov/fairseq-xlmg/examples/few_shot/data/paws_x/x-final/en/test_2k.tsv\"\n",
    "id_prefix = \"/\".join(input_path.split(\"/\")[-5:])\n",
    "items_to_export = 100\n",
    "\n",
    "input_data = []\n",
    "for line in open(input_path):\n",
    "    item = json.loads(line.strip())\n",
    "    input_data.append(item)\n",
    "if items_to_export <= 0:\n",
    "    items_to_export = len(input_data) \n",
    "\n",
    "output_path = res_output_path + \"copa_en\"+os.path.basename(input_path)+f\"{items_to_export:04}.tsv\"\n",
    "print(input_data[0])"
   ]
  },
  {
   "cell_type": "code",
   "execution_count": 3,
   "metadata": {},
   "outputs": [
    {
     "name": "stdout",
     "output_type": "stream",
     "text": [
      "Total items:100\n",
      "Items to export:100\n",
      "Data exported to:\n",
      "/private/home/tbmihaylov/fairseq-xlmg/examples/few_shot/scripts/task_translation/_data/copa_enval.jsonl0100.tsv\n"
     ]
    }
   ],
   "source": [
    "# \n",
    "\n",
    "new_items = []\n",
    "for i, item in enumerate(input_data):\n",
    "#     new_item = {\n",
    "#         \"id\": f\"{id_prefix}_{item['id']}\",\n",
    "#         \"text\": \" \".join([item[x].strip() for x in ['sentence1', \n",
    "#                                                      'sentence2', \n",
    "#                                                      ]]),\n",
    "#     }\n",
    "    new_item = item\n",
    "    new_item[\"id\"] = f\"{id_prefix}_{i}\"\n",
    "    new_items.append(new_item)\n",
    "    #print(new_item)\n",
    "     \n",
    "print(f\"Total items:{len(new_items)}\")\n",
    "new_items = new_items[:items_to_export]\n",
    "print(f\"Items to export:{len(new_items)}\")\n",
    "\n",
    "with open(output_path, mode=\"w\") as f_out:\n",
    "    writer = csv.DictWriter(f_out, new_item.keys(), delimiter='\\t')\n",
    "    writer.writeheader()\n",
    "    writer.writerows(new_items)\n",
    "    \n",
    "print(f\"Data exported to:\\n{os.path.abspath(output_path)}\")\n",
    "        \n",
    "\n"
   ]
  },
  {
   "cell_type": "markdown",
   "metadata": {},
   "source": [
    "# Convert translated tsv file to jsonl"
   ]
  },
  {
   "cell_type": "code",
   "execution_count": 4,
   "metadata": {},
   "outputs": [
    {
     "name": "stdout",
     "output_type": "stream",
     "text": [
      "/private/home/tbmihaylov/data/xlmg/few_shot/xcopa/human_translation/ru/val.ru.jsonl\n"
     ]
    }
   ],
   "source": [
    "import csv\n",
    "import json\n",
    "tsv_file = \"/private/home/tbmihaylov/data/xlmg/few_shot/xcopa/human_translation/ru/val.ru.tsv\"\n",
    "json_out_file = tsv_file.replace(\".tsv\", \".jsonl\")\n",
    "with open(json_out_file, mode=\"w\") as f_out:\n",
    "    columns = []\n",
    "    delim = \"\\t\"\n",
    "    for ii, line in enumerate(open(tsv_file)):\n",
    "        if ii == 0:\n",
    "            columns = line.strip().split(delim)\n",
    "            continue\n",
    "        vals = line.strip().split(delim)\n",
    "        if len(vals) != len(columns):\n",
    "            raise Exception(f\"Item {ii} in {input_path}: values count {len(vals)} does not match columns count {len(columns)}\\n {vals}{columns} \")\n",
    "\n",
    "        item = {kv[0]:kv[1] for kv in zip(columns, vals)}\n",
    "        if item[\"label\"] not in {\"0\", \"1\", 0, 1}:\n",
    "            print(item)\n",
    "            raise Exception(f\"Item {ii} in {input_path} has unknown label '{item['label']}'\")\n",
    "        item[\"label\"] = int(item[\"label\"])\n",
    "        f_out.write(json.dumps(item, ensure_ascii=False).strip())\n",
    "        f_out.write(\"\\n\")\n",
    "print(json_out_file)"
   ]
  },
  {
   "cell_type": "markdown",
   "metadata": {},
   "source": []
  }
 ],
 "metadata": {
  "kernelspec": {
   "display_name": "fairseq-20210102",
   "language": "python",
   "name": "fairseq-20210102"
  },
  "language_info": {
   "codemirror_mode": {
    "name": "ipython",
    "version": 3
   },
   "file_extension": ".py",
   "mimetype": "text/x-python",
   "name": "python",
   "nbconvert_exporter": "python",
   "pygments_lexer": "ipython3",
   "version": "3.8.5"
  }
 },
 "nbformat": 4,
 "nbformat_minor": 2
}
