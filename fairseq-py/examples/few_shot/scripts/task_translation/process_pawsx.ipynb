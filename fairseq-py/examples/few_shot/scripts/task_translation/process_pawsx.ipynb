{
 "cells": [
  {
   "cell_type": "markdown",
   "metadata": {},
   "source": [
    "# Process `pawsx` for translations"
   ]
  },
  {
   "cell_type": "code",
   "execution_count": 1,
   "metadata": {},
   "outputs": [
    {
     "name": "stdout",
     "output_type": "stream",
     "text": [
      "{'id': '4', 'sentence1': 'From the merger of the Four Rivers Council and the Audubon Council , the Shawnee Trails Council was born .', 'sentence2': 'Shawnee Trails Council was formed from the merger of the Four Rivers Council and the Audubon Council .', 'label': '1'}\n"
     ]
    }
   ],
   "source": [
    "import csv\n",
    "import os\n",
    "res_output_path = \"_data/\"\n",
    "os.makedirs(res_output_path, exist_ok=True)\n",
    "\n",
    "\n",
    "input_path = \"/private/home/tbmihaylov/fairseq-xlmg/examples/few_shot/data/paws_x/x-final/en/dev_2k.tsv\"\n",
    "#input_path = \"/private/home/tbmihaylov/fairseq-xlmg/examples/few_shot/data/paws_x/x-final/en/test_2k.tsv\"\n",
    "id_prefix = \"/\".join(input_path.split(\"/\")[-5:])\n",
    "items_to_export = 100\n",
    "\n",
    "input_data = []\n",
    "for item in csv.DictReader(open(input_path), delimiter=\"\\t\"):\n",
    "    input_data.append(item)\n",
    "if items_to_export <= 0:\n",
    "    items_to_export = len(input_data) \n",
    "\n",
    "output_path = res_output_path + \"paws_x_en_\"+os.path.basename(input_path)+f\"{items_to_export:04}.tsv\"\n",
    "print(input_data[0])"
   ]
  },
  {
   "cell_type": "code",
   "execution_count": 2,
   "metadata": {},
   "outputs": [
    {
     "name": "stdout",
     "output_type": "stream",
     "text": [
      "Total items:2000\n",
      "Items to export:100\n",
      "Data exported to:\n",
      "/private/home/tbmihaylov/fairseq-xlmg/examples/few_shot/scripts/task_translation/_data/paws_x_en_dev_2k.tsv0100.tsv\n"
     ]
    }
   ],
   "source": [
    "# \n",
    "\n",
    "new_items = []\n",
    "for item in input_data:\n",
    "#     new_item = {\n",
    "#         \"id\": f\"{id_prefix}_{item['id']}\",\n",
    "#         \"text\": \" \".join([item[x].strip() for x in ['sentence1', \n",
    "#                                                      'sentence2', \n",
    "#                                                      ]]),\n",
    "#     }\n",
    "    new_item = item\n",
    "    new_item[\"id\"] = f\"{id_prefix}_{item['id']}\"\n",
    "    new_items.append(new_item)\n",
    "    #print(new_item)\n",
    "     \n",
    "print(f\"Total items:{len(new_items)}\")\n",
    "new_items = new_items[:items_to_export]\n",
    "print(f\"Items to export:{len(new_items)}\")\n",
    "\n",
    "with open(output_path, mode=\"w\") as f_out:\n",
    "    writer = csv.DictWriter(f_out, new_item.keys(), delimiter='\\t')\n",
    "    writer.writeheader()\n",
    "    writer.writerows(new_items)\n",
    "    \n",
    "print(f\"Data exported to:\\n{os.path.abspath(output_path)}\")\n",
    "        \n",
    "\n"
   ]
  },
  {
   "cell_type": "code",
   "execution_count": null,
   "metadata": {},
   "outputs": [],
   "source": []
  },
  {
   "cell_type": "code",
   "execution_count": null,
   "metadata": {},
   "outputs": [],
   "source": []
  },
  {
   "cell_type": "markdown",
   "metadata": {},
   "source": []
  }
 ],
 "metadata": {
  "kernelspec": {
   "display_name": "fairseq-20210102",
   "language": "python",
   "name": "fairseq-20210102"
  },
  "language_info": {
   "codemirror_mode": {
    "name": "ipython",
    "version": 3
   },
   "file_extension": ".py",
   "mimetype": "text/x-python",
   "name": "python",
   "nbconvert_exporter": "python",
   "pygments_lexer": "ipython3",
   "version": "3.8.5"
  }
 },
 "nbformat": 4,
 "nbformat_minor": 2
}
