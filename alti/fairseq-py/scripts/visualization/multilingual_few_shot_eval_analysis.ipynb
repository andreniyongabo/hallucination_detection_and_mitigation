{
 "cells": [
  {
   "cell_type": "code",
   "execution_count": 2,
   "metadata": {},
   "outputs": [],
   "source": [
    "import altair as alt\n",
    "from altair import datum\n",
    "import functools\n",
    "import pandas as pd\n",
    "\n",
    "import sys\n",
    "sys.path.append('/private/home/victorialin/Projects/fairseq-py')\n",
    "from scripts.visualization.multilingual_few_shot_eval_utils import *\n",
    "\n",
    "\n",
    "result_tables = {\n",
    "    # \"en-6.7B-dense-en\": \"/checkpoint/victorialin/few_shot/6.7B_gpt3_setting_en_tasks/results.tsv\",\n",
    "    # multi-7.5B-dense-en\": \"/checkpoint/victorialin/few_shot/dense_7.5B_lang30_new_cc100_xl_unigram_en_tasks/results.tsv\",\n",
    "    \"multi-7.5B-dense-multi\": \"/checkpoint/victorialin/few_shot/dense_7.5B_lang30_new_cc100_xl_unigram_mutli_tasks_v1/results.tsv\",\n",
    "    # \"multi-200B-moe-en\": \"/checkpoint/victorialin/few_shot/moe_200B_lang30_new_cc100_xl_unigram_en_tasks//results.tsv\",\n",
    "    # \"multi-200B-moe-multi\": \"/checkpoint/victorialin/few_shot/moe_200B_lang30_new_cc100_xl_unigram_mutli_tasks_v1/results.tsv\"\n",
    "}\n",
    "\n",
    "_all_multi_eval_tasks = [\n",
    "    'xnli', \n",
    "    'xcopa', \n",
    "    'pawsx'\n",
    "]\n",
    "\n",
    "# filtering conditions\n",
    "def all_multi_eval_tasks(df):\n",
    "    return functools.reduce(lambda x, y: x | y, [df['task'] == t for t in _all_multi_eval_tasks])\n",
    "\n",
    "def xnli_template_selection(df):\n",
    "    return ((df['template'] == 'xnli_generativenli__en')\n",
    "    | (df['template'] == 'xnli_generativenli_mt')\n",
    "    | (df['template'] == 'xnli_generativenli_ht')\n",
    ")\n",
    "\n",
    "def xcopa_template_selection(df):\n",
    "    return (df['template'] == 'xcopa__en') | (df['template'] == 'xcopa_mt') | (df['template'] == 'xcopa_simple')\n",
    "\n",
    "def all_checkpoints(df):\n",
    "    return (((df.model == 'dense_7.5B_lang30_new_cc100_xl_unigram') & (df.step == 238000)))\n",
    "\n",
    "def num_few_shot_samples(df):\n",
    "    return ((df['nb_few_shot_samples'] == 0))\n",
    "\n",
    "def final_eval_splits(df):\n",
    "    return (((df['task'] == 'arcchallenge') & (df['eval_set'] == 'dev') & (df['train_set'] == 'train'))\n",
    "        | ((df['task'] == 'arceasy') & (df['eval_set'] == 'dev') & (df['train_set'] == 'train'))\n",
    "        | ((df['task'] == 'copa') & (df['eval_set'] == 'val') & (df['train_set'] == 'train'))\n",
    "        | ((df['task'] == 'hellaswag') & (df['eval_set'] == 'val') & (df['train_set'] == 'train'))\n",
    "        | ((df['task'] == 'openbookqa') & (df['eval_set'] == 'test') & (df['train_set'] == 'train'))\n",
    "        | ((df['task'] == 'piqa') & (df['eval_set'] == 'valid') & (df['train_set'] == 'train'))\n",
    "        | ((df['task'] == 'winogrande') & (df['eval_set'] == 'dev') & (df['train_set'] == 'train_xl'))\n",
    "        | ((df['task'] == 'storycloze') & (df['eval_set'] == 'test2016') & (df['train_set'] == 'val2016'))\n",
    "        | ((df['task'] == 'storycloze') & (df['eval_set'] == 'val2016') & (df['train_set'] == 'val2016'))\n",
    "        | ((df['task'] == 'pawsx') & (df['eval_set'] == 'test') & (df['train_set'] == 'dev'))\n",
    "        | ((df['task'] == 'xcopa') & (df['eval_set'] == 'test') & (df['train_set'] == 'val'))\n",
    "        | ((df['task'] == 'xnli') & (df['eval_set'] == 'dev') & (df['train_set'] == 'dev'))\n",
    "        | ((df['task'] == 'xwinograd') & ((df['language'] != 'fr') & (df['language'] != 'zh')) & (df['eval_set'] == 'test') & (df['train_set'] == 'test')))\n",
    "\n",
    "def en_final_eval_splits(df):\n",
    "    return (((df['task'] == 'arcchallenge') & (df['eval_set'] == 'dev') & (df['train_set'] == 'train'))\n",
    "        | ((df['task'] == 'arceasy') & (df['eval_set'] == 'dev') & (df['train_set'] == 'train'))\n",
    "        | ((df['task'] == 'copa') & (df['eval_set'] == 'val') & (df['train_set'] == 'train'))\n",
    "        | ((df['task'] == 'hellaswag') & (df['eval_set'] == 'val') & (df['train_set'] == 'train'))\n",
    "        | ((df['task'] == 'openbookqa') & (df['eval_set'] == 'test') & (df['train_set'] == 'train'))\n",
    "        | ((df['task'] == 'piqa') & (df['eval_set'] == 'valid') & (df['train_set'] == 'train'))\n",
    "        | ((df['task'] == 'winogrande') & (df['eval_set'] == 'dev') & (df['train_set'] == 'train_xl'))\n",
    "        | ((df['task'] == 'storycloze') & (df['eval_set'] == 'test2016') & (df['train_set'] == 'val2016'))\n",
    "        | ((df['task'] == 'pawsx') & (df['eval_set'] == 'test') & (df['train_set'] == 'dev'))\n",
    "        | ((df['task'] == 'xcopa') & (df['eval_set'] == 'test') & (df['train_set'] == 'val'))\n",
    "        | ((df['task'] == 'xnli') & (df['eval_set'] == 'dev') & (df['train_set'] == 'dev'))\n",
    "        | ((df['task'] == 'xwinograd') & ((df['language'] != 'fr') & (df['language'] != 'zh')) & (df['eval_set'] == 'test') & (df['train_set'] == 'test')))\n",
    "\n",
    "def multi_final_eval_splits(df):\n",
    "    return (((df['task'] == 'arcchallenge') & (df['eval_set'] == 'dev') & (df['train_set'] == 'train'))\n",
    "        | ((df['task'] == 'arceasy') & (df['eval_set'] == 'dev') & (df['train_set'] == 'train'))\n",
    "        | ((df['task'] == 'copa') & (df['eval_set'] == 'val') & (df['train_set'] == 'train'))\n",
    "        | ((df['task'] == 'hellaswag') & (df['eval_set'] == 'val') & (df['train_set'] == 'train'))\n",
    "        | ((df['task'] == 'openbookqa') & (df['eval_set'] == 'test') & (df['train_set'] == 'train'))\n",
    "        | ((df['task'] == 'piqa') & (df['eval_set'] == 'valid') & (df['train_set'] == 'train'))\n",
    "        | ((df['task'] == 'winogrande') & (df['eval_set'] == 'dev') & (df['train_set'] == 'train_xl'))\n",
    "        | ((df['task'] == 'storycloze') & (df['eval_set'] == 'val2016') & (df['train_set'] == 'val2016'))\n",
    "        | ((df['task'] == 'pawsx') & (df['eval_set'] == 'test') & (df['train_set'] == 'dev'))\n",
    "        | ((df['task'] == 'xcopa') & (df['eval_set'] == 'test') & (df['train_set'] == 'val'))\n",
    "        | ((df['task'] == 'xnli') & (df['eval_set'] == 'test') & (df['train_set'] == 'dev'))\n",
    "        | ((df['task'] == 'xwinograd') & ((df['language'] != 'fr') & (df['language'] != 'zh')) & (df['eval_set'] == 'test') & (df['train_set'] == 'test')))\n",
    "\n",
    "def multi_dev_eval_splits(df):\n",
    "    return (((df['task'] == 'arcchallenge') & (df['eval_set'] == 'dev') & (df['train_set'] == 'train'))\n",
    "        | ((df['task'] == 'arceasy') & (df['eval_set'] == 'dev') & (df['train_set'] == 'train'))\n",
    "        | ((df['task'] == 'copa') & (df['eval_set'] == 'val') & (df['train_set'] == 'train'))\n",
    "        | ((df['task'] == 'hellaswag') & (df['eval_set'] == 'val') & (df['train_set'] == 'train'))\n",
    "        | ((df['task'] == 'openbookqa') & (df['eval_set'] == 'test') & (df['train_set'] == 'train'))\n",
    "        | ((df['task'] == 'piqa') & (df['eval_set'] == 'valid') & (df['train_set'] == 'train'))\n",
    "        | ((df['task'] == 'winogrande') & (df['eval_set'] == 'dev') & (df['train_set'] == 'train_xl'))\n",
    "        | ((df['task'] == 'storycloze') & (df['eval_set'] == 'val2016') & (df['train_set'] == 'val2016'))\n",
    "        | ((df['task'] == 'pawsx') & (df['eval_set'] == 'test') & (df['train_set'] == 'dev'))\n",
    "        | ((df['task'] == 'xcopa') & (df['eval_set'] == 'val') & (df['train_set'] == 'val'))\n",
    "        | ((df['task'] == 'xnli') & (df['eval_set'] == 'dev') & (df['train_set'] == 'dev'))\n",
    "        | ((df['task'] == 'xwinograd') & ((df['language'] != 'fr') & (df['language'] != 'zh')) & (df['eval_set'] == 'test') & (df['train_set'] == 'test')))\n",
    "\n",
    "def en_only(df):\n",
    "    return df['language'] == 'en'\n",
    "\n",
    "dfs = {}\n",
    "for key in result_tables:\n",
    "    df = pd.read_csv(result_tables[key], sep='\\t', index_col=False).iloc[:, 1:]\n",
    "    df = df.drop_duplicates()\n",
    "    df['model'] = df.model_name.apply(lambda x: x.split('__step')[0])\n",
    "    df['step'] = df.model_name.apply(lambda x: int(x.split('__step')[1]))\n",
    "    df = df[all_multi_eval_tasks(df) & all_checkpoints(df) & num_few_shot_samples(df) & multi_dev_eval_splits(df)]\n",
    "\n",
    "    df['meta_task'] = df.task.apply(lambda x:x.split('__', 1)[0])\n",
    "    df['model_id'] = df.model_name.apply(lambda x:x.split('__step', 1)[0])\n",
    "    dfs[key] = df\n",
    "\n",
    "multi_result_df = pd.concat(dfs.values())\n",
    "multi_result_df['resource_level'] = multi_result_df.language.apply(lambda x:get_resource_level(x))"
   ]
  },
  {
   "cell_type": "code",
   "execution_count": 3,
   "metadata": {},
   "outputs": [
    {
     "name": "stdout",
     "output_type": "stream",
     "text": [
      "\\begin{tabular}{lrrrrrrrrrrrrrrr}\n",
      "\\toprule\n",
      "{} & \\multicolumn{15}{l}{accuracy::mean} \\\\\n",
      "language &             ar &   bg &   de &   el &   en &   es &   fr &   hi &   ru &   sw &   th &   tr &   ur &   vi &   zh \\\\\n",
      "template               &                &      &      &      &      &      &      &      &      &      &      &      &      &      &      \\\\\n",
      "\\midrule\n",
      "xnli\\_generativenli\\_\\_en &           47.5 & 50.0 & 42.4 & 47.1 & 54.5 & 38.2 & 50.7 & 43.4 & 47.2 & 46.2 & 46.1 & 44.6 & 42.7 & 47.5 & 45.0 \\\\\n",
      "xnli\\_generativenli\\_ht  &           46.0 & 49.3 & 49.5 & 47.1 & 54.5 & 50.0 & 50.4 & 37.5 & 47.4 & 44.4 & 34.9 & 46.3 & 33.7 & 45.2 & 34.1 \\\\\n",
      "xnli\\_generativenli\\_mt  &           46.5 & 49.3 & 37.6 & 45.4 & 54.5 & 37.5 & 47.8 & 38.8 & 40.7 & 44.4 & 33.3 & 37.1 & 33.5 & 35.4 & 34.6 \\\\\n",
      "\\bottomrule\n",
      "\\end{tabular}\n",
      "\n"
     ]
    }
   ],
   "source": [
    "xnli_result_df = multi_result_df[xnli_template_selection(multi_result_df)]\n",
    "xnli_result_table = pd.pivot_table(xnli_result_df, values=['accuracy::mean'], index=['template'], columns=['language'])\n",
    "print(xnli_result_table.to_latex(float_format=\"{:0.1f}\".format))"
   ]
  },
  {
   "cell_type": "code",
   "execution_count": 4,
   "metadata": {},
   "outputs": [
    {
     "name": "stdout",
     "output_type": "stream",
     "text": [
      "\\begin{tabular}{lrrrrrrrrrrrr}\n",
      "\\toprule\n",
      "{} & \\multicolumn{12}{l}{accuracy::mean} \\\\\n",
      "language &             et &   ht &   id &   it &   qu &   ru &   sw &   ta &   th &   tr &   vi &   zh \\\\\n",
      "template     &                &      &      &      &      &      &      &      &      &      &      &      \\\\\n",
      "\\midrule\n",
      "xcopa\\_\\_en    &           63.0 & 57.0 & 54.0 & 59.0 & 70.0 & 64.0 & 54.0 & 59.0 & 53.0 & 65.0 & 63.0 & 63.0 \\\\\n",
      "xcopa\\_mt     &           60.0 & 60.0 & 51.0 & 69.0 & 69.0 & 59.0 & 51.0 & 59.0 & 48.0 & 64.0 & 64.0 & 62.0 \\\\\n",
      "xcopa\\_simple &           61.0 & 55.0 & 55.0 & 56.0 & 69.0 & 59.0 & 52.0 & 54.0 & 51.0 & 63.0 & 55.0 & 62.0 \\\\\n",
      "\\bottomrule\n",
      "\\end{tabular}\n",
      "\n"
     ]
    }
   ],
   "source": [
    "xcopa_result_df = multi_result_df[xcopa_template_selection(multi_result_df)]\n",
    "xcopa_result_table = pd.pivot_table(xcopa_result_df, values=['accuracy::mean'], index=['template'], columns=['language'])\n",
    "print(xcopa_result_table.to_latex(float_format=\"{:0.1f}\".format))"
   ]
  },
  {
   "cell_type": "code",
   "execution_count": 6,
   "metadata": {},
   "outputs": [
    {
     "data": {
      "text/html": "<div>\n<style scoped>\n    .dataframe tbody tr th:only-of-type {\n        vertical-align: middle;\n    }\n\n    .dataframe tbody tr th {\n        vertical-align: top;\n    }\n\n    .dataframe thead tr th {\n        text-align: left;\n    }\n\n    .dataframe thead tr:last-of-type th {\n        text-align: right;\n    }\n</style>\n<table border=\"1\" class=\"dataframe\">\n  <thead>\n    <tr>\n      <th></th>\n      <th colspan=\"12\" halign=\"left\">accuracy::mean</th>\n    </tr>\n    <tr>\n      <th>language</th>\n      <th>et</th>\n      <th>ht</th>\n      <th>id</th>\n      <th>it</th>\n      <th>qu</th>\n      <th>ru</th>\n      <th>sw</th>\n      <th>ta</th>\n      <th>th</th>\n      <th>tr</th>\n      <th>vi</th>\n      <th>zh</th>\n    </tr>\n    <tr>\n      <th>template</th>\n      <th></th>\n      <th></th>\n      <th></th>\n      <th></th>\n      <th></th>\n      <th></th>\n      <th></th>\n      <th></th>\n      <th></th>\n      <th></th>\n      <th></th>\n      <th></th>\n    </tr>\n  </thead>\n  <tbody>\n    <tr>\n      <th>xcopa__en</th>\n      <td>63.0</td>\n      <td>57.0</td>\n      <td>54.0</td>\n      <td>59.0</td>\n      <td>70.0</td>\n      <td>64.0</td>\n      <td>54.0</td>\n      <td>59.0</td>\n      <td>53.0</td>\n      <td>65.0</td>\n      <td>63.0</td>\n      <td>63.0</td>\n    </tr>\n    <tr>\n      <th>xcopa_mt</th>\n      <td>60.0</td>\n      <td>60.0</td>\n      <td>51.0</td>\n      <td>69.0</td>\n      <td>69.0</td>\n      <td>59.0</td>\n      <td>51.0</td>\n      <td>59.0</td>\n      <td>48.0</td>\n      <td>64.0</td>\n      <td>64.0</td>\n      <td>62.0</td>\n    </tr>\n    <tr>\n      <th>xcopa_simple</th>\n      <td>61.0</td>\n      <td>55.0</td>\n      <td>55.0</td>\n      <td>56.0</td>\n      <td>69.0</td>\n      <td>59.0</td>\n      <td>52.0</td>\n      <td>54.0</td>\n      <td>51.0</td>\n      <td>63.0</td>\n      <td>55.0</td>\n      <td>62.0</td>\n    </tr>\n  </tbody>\n</table>\n</div>",
      "text/plain": "             accuracy::mean                                                  \\\nlanguage                 et    ht    id    it    qu    ru    sw    ta    th   \ntemplate                                                                      \nxcopa__en              63.0  57.0  54.0  59.0  70.0  64.0  54.0  59.0  53.0   \nxcopa_mt               60.0  60.0  51.0  69.0  69.0  59.0  51.0  59.0  48.0   \nxcopa_simple           61.0  55.0  55.0  56.0  69.0  59.0  52.0  54.0  51.0   \n\n                                \nlanguage        tr    vi    zh  \ntemplate                        \nxcopa__en     65.0  63.0  63.0  \nxcopa_mt      64.0  64.0  62.0  \nxcopa_simple  63.0  55.0  62.0  "
     },
     "execution_count": 6,
     "metadata": {},
     "output_type": "execute_result"
    }
   ],
   "source": [
    "xcopa_result_table"
   ]
  },
  {
   "cell_type": "code",
   "execution_count": 19,
   "metadata": {},
   "outputs": [
    {
     "data": {
      "text/html": "<div>\n<style scoped>\n    .dataframe tbody tr th:only-of-type {\n        vertical-align: middle;\n    }\n\n    .dataframe tbody tr th {\n        vertical-align: top;\n    }\n\n    .dataframe thead th {\n        text-align: right;\n    }\n</style>\n<table border=\"1\" class=\"dataframe\">\n  <thead>\n    <tr style=\"text-align: right;\">\n      <th></th>\n      <th>task</th>\n      <th>eval_set</th>\n      <th>eval_examples_cnt::mean</th>\n      <th>language</th>\n      <th>train_set</th>\n      <th>train_lang</th>\n      <th>template</th>\n      <th>nb_few_shot_samples</th>\n      <th>nb_trunc_few_shot_samples::mean</th>\n      <th>calibration</th>\n      <th>...</th>\n      <th>accuracy_2</th>\n      <th>accuracy_3</th>\n      <th>accuracy_4</th>\n      <th>accuracy_sum::mean</th>\n      <th>accuracy_sum::std</th>\n      <th>model</th>\n      <th>step</th>\n      <th>meta_task</th>\n      <th>model_id</th>\n      <th>resource_level</th>\n    </tr>\n  </thead>\n  <tbody>\n    <tr>\n      <th>383</th>\n      <td>xnli</td>\n      <td>dev</td>\n      <td>2490.0</td>\n      <td>en</td>\n      <td>dev</td>\n      <td>en</td>\n      <td>xnli_generativenli_ht</td>\n      <td>0</td>\n      <td>0.0</td>\n      <td>False</td>\n      <td>...</td>\n      <td>NaN</td>\n      <td>NaN</td>\n      <td>NaN</td>\n      <td>NaN</td>\n      <td>NaN</td>\n      <td>dense_7.5B_lang30_new_cc100_xl_unigram</td>\n      <td>238000</td>\n      <td>xnli</td>\n      <td>dense_7.5B_lang30_new_cc100_xl_unigram</td>\n      <td>high</td>\n    </tr>\n    <tr>\n      <th>384</th>\n      <td>xnli</td>\n      <td>dev</td>\n      <td>2490.0</td>\n      <td>en</td>\n      <td>dev</td>\n      <td>en</td>\n      <td>xnli_generativenli__en</td>\n      <td>0</td>\n      <td>0.0</td>\n      <td>False</td>\n      <td>...</td>\n      <td>NaN</td>\n      <td>NaN</td>\n      <td>NaN</td>\n      <td>NaN</td>\n      <td>NaN</td>\n      <td>dense_7.5B_lang30_new_cc100_xl_unigram</td>\n      <td>238000</td>\n      <td>xnli</td>\n      <td>dense_7.5B_lang30_new_cc100_xl_unigram</td>\n      <td>high</td>\n    </tr>\n    <tr>\n      <th>385</th>\n      <td>xnli</td>\n      <td>dev</td>\n      <td>2490.0</td>\n      <td>en</td>\n      <td>dev</td>\n      <td>en</td>\n      <td>xnli_generativenli_mt</td>\n      <td>0</td>\n      <td>0.0</td>\n      <td>False</td>\n      <td>...</td>\n      <td>NaN</td>\n      <td>NaN</td>\n      <td>NaN</td>\n      <td>NaN</td>\n      <td>NaN</td>\n      <td>dense_7.5B_lang30_new_cc100_xl_unigram</td>\n      <td>238000</td>\n      <td>xnli</td>\n      <td>dense_7.5B_lang30_new_cc100_xl_unigram</td>\n      <td>high</td>\n    </tr>\n    <tr>\n      <th>386</th>\n      <td>xnli</td>\n      <td>dev</td>\n      <td>2490.0</td>\n      <td>fr</td>\n      <td>dev</td>\n      <td>fr</td>\n      <td>xnli_generativenli_ht</td>\n      <td>0</td>\n      <td>0.0</td>\n      <td>False</td>\n      <td>...</td>\n      <td>NaN</td>\n      <td>NaN</td>\n      <td>NaN</td>\n      <td>NaN</td>\n      <td>NaN</td>\n      <td>dense_7.5B_lang30_new_cc100_xl_unigram</td>\n      <td>238000</td>\n      <td>xnli</td>\n      <td>dense_7.5B_lang30_new_cc100_xl_unigram</td>\n      <td>high</td>\n    </tr>\n    <tr>\n      <th>387</th>\n      <td>xnli</td>\n      <td>dev</td>\n      <td>2490.0</td>\n      <td>fr</td>\n      <td>dev</td>\n      <td>fr</td>\n      <td>xnli_generativenli_mt</td>\n      <td>0</td>\n      <td>0.0</td>\n      <td>False</td>\n      <td>...</td>\n      <td>NaN</td>\n      <td>NaN</td>\n      <td>NaN</td>\n      <td>NaN</td>\n      <td>NaN</td>\n      <td>dense_7.5B_lang30_new_cc100_xl_unigram</td>\n      <td>238000</td>\n      <td>xnli</td>\n      <td>dense_7.5B_lang30_new_cc100_xl_unigram</td>\n      <td>high</td>\n    </tr>\n    <tr>\n      <th>388</th>\n      <td>xnli</td>\n      <td>dev</td>\n      <td>2490.0</td>\n      <td>fr</td>\n      <td>dev</td>\n      <td>fr</td>\n      <td>xnli_generativenli__en</td>\n      <td>0</td>\n      <td>0.0</td>\n      <td>False</td>\n      <td>...</td>\n      <td>NaN</td>\n      <td>NaN</td>\n      <td>NaN</td>\n      <td>NaN</td>\n      <td>NaN</td>\n      <td>dense_7.5B_lang30_new_cc100_xl_unigram</td>\n      <td>238000</td>\n      <td>xnli</td>\n      <td>dense_7.5B_lang30_new_cc100_xl_unigram</td>\n      <td>high</td>\n    </tr>\n    <tr>\n      <th>389</th>\n      <td>xnli</td>\n      <td>dev</td>\n      <td>2490.0</td>\n      <td>es</td>\n      <td>dev</td>\n      <td>es</td>\n      <td>xnli_generativenli_ht</td>\n      <td>0</td>\n      <td>0.0</td>\n      <td>False</td>\n      <td>...</td>\n      <td>NaN</td>\n      <td>NaN</td>\n      <td>NaN</td>\n      <td>NaN</td>\n      <td>NaN</td>\n      <td>dense_7.5B_lang30_new_cc100_xl_unigram</td>\n      <td>238000</td>\n      <td>xnli</td>\n      <td>dense_7.5B_lang30_new_cc100_xl_unigram</td>\n      <td>high</td>\n    </tr>\n    <tr>\n      <th>390</th>\n      <td>xnli</td>\n      <td>dev</td>\n      <td>2490.0</td>\n      <td>es</td>\n      <td>dev</td>\n      <td>es</td>\n      <td>xnli_generativenli_mt</td>\n      <td>0</td>\n      <td>0.0</td>\n      <td>False</td>\n      <td>...</td>\n      <td>NaN</td>\n      <td>NaN</td>\n      <td>NaN</td>\n      <td>NaN</td>\n      <td>NaN</td>\n      <td>dense_7.5B_lang30_new_cc100_xl_unigram</td>\n      <td>238000</td>\n      <td>xnli</td>\n      <td>dense_7.5B_lang30_new_cc100_xl_unigram</td>\n      <td>high</td>\n    </tr>\n    <tr>\n      <th>391</th>\n      <td>xnli</td>\n      <td>dev</td>\n      <td>2490.0</td>\n      <td>es</td>\n      <td>dev</td>\n      <td>es</td>\n      <td>xnli_generativenli__en</td>\n      <td>0</td>\n      <td>0.0</td>\n      <td>False</td>\n      <td>...</td>\n      <td>NaN</td>\n      <td>NaN</td>\n      <td>NaN</td>\n      <td>NaN</td>\n      <td>NaN</td>\n      <td>dense_7.5B_lang30_new_cc100_xl_unigram</td>\n      <td>238000</td>\n      <td>xnli</td>\n      <td>dense_7.5B_lang30_new_cc100_xl_unigram</td>\n      <td>high</td>\n    </tr>\n    <tr>\n      <th>392</th>\n      <td>xnli</td>\n      <td>dev</td>\n      <td>2490.0</td>\n      <td>de</td>\n      <td>dev</td>\n      <td>de</td>\n      <td>xnli_generativenli_ht</td>\n      <td>0</td>\n      <td>0.0</td>\n      <td>False</td>\n      <td>...</td>\n      <td>NaN</td>\n      <td>NaN</td>\n      <td>NaN</td>\n      <td>NaN</td>\n      <td>NaN</td>\n      <td>dense_7.5B_lang30_new_cc100_xl_unigram</td>\n      <td>238000</td>\n      <td>xnli</td>\n      <td>dense_7.5B_lang30_new_cc100_xl_unigram</td>\n      <td>high</td>\n    </tr>\n    <tr>\n      <th>393</th>\n      <td>xnli</td>\n      <td>dev</td>\n      <td>2490.0</td>\n      <td>de</td>\n      <td>dev</td>\n      <td>de</td>\n      <td>xnli_generativenli_mt</td>\n      <td>0</td>\n      <td>0.0</td>\n      <td>False</td>\n      <td>...</td>\n      <td>NaN</td>\n      <td>NaN</td>\n      <td>NaN</td>\n      <td>NaN</td>\n      <td>NaN</td>\n      <td>dense_7.5B_lang30_new_cc100_xl_unigram</td>\n      <td>238000</td>\n      <td>xnli</td>\n      <td>dense_7.5B_lang30_new_cc100_xl_unigram</td>\n      <td>high</td>\n    </tr>\n    <tr>\n      <th>394</th>\n      <td>xnli</td>\n      <td>dev</td>\n      <td>2490.0</td>\n      <td>de</td>\n      <td>dev</td>\n      <td>de</td>\n      <td>xnli_generativenli__en</td>\n      <td>0</td>\n      <td>0.0</td>\n      <td>False</td>\n      <td>...</td>\n      <td>NaN</td>\n      <td>NaN</td>\n      <td>NaN</td>\n      <td>NaN</td>\n      <td>NaN</td>\n      <td>dense_7.5B_lang30_new_cc100_xl_unigram</td>\n      <td>238000</td>\n      <td>xnli</td>\n      <td>dense_7.5B_lang30_new_cc100_xl_unigram</td>\n      <td>high</td>\n    </tr>\n    <tr>\n      <th>395</th>\n      <td>xnli</td>\n      <td>dev</td>\n      <td>2490.0</td>\n      <td>el</td>\n      <td>dev</td>\n      <td>el</td>\n      <td>xnli_generativenli_ht</td>\n      <td>0</td>\n      <td>0.0</td>\n      <td>False</td>\n      <td>...</td>\n      <td>NaN</td>\n      <td>NaN</td>\n      <td>NaN</td>\n      <td>NaN</td>\n      <td>NaN</td>\n      <td>dense_7.5B_lang30_new_cc100_xl_unigram</td>\n      <td>238000</td>\n      <td>xnli</td>\n      <td>dense_7.5B_lang30_new_cc100_xl_unigram</td>\n      <td>medium</td>\n    </tr>\n    <tr>\n      <th>396</th>\n      <td>xnli</td>\n      <td>dev</td>\n      <td>2490.0</td>\n      <td>el</td>\n      <td>dev</td>\n      <td>el</td>\n      <td>xnli_generativenli_mt</td>\n      <td>0</td>\n      <td>0.0</td>\n      <td>False</td>\n      <td>...</td>\n      <td>NaN</td>\n      <td>NaN</td>\n      <td>NaN</td>\n      <td>NaN</td>\n      <td>NaN</td>\n      <td>dense_7.5B_lang30_new_cc100_xl_unigram</td>\n      <td>238000</td>\n      <td>xnli</td>\n      <td>dense_7.5B_lang30_new_cc100_xl_unigram</td>\n      <td>medium</td>\n    </tr>\n    <tr>\n      <th>397</th>\n      <td>xnli</td>\n      <td>dev</td>\n      <td>2490.0</td>\n      <td>el</td>\n      <td>dev</td>\n      <td>el</td>\n      <td>xnli_generativenli__en</td>\n      <td>0</td>\n      <td>0.0</td>\n      <td>False</td>\n      <td>...</td>\n      <td>NaN</td>\n      <td>NaN</td>\n      <td>NaN</td>\n      <td>NaN</td>\n      <td>NaN</td>\n      <td>dense_7.5B_lang30_new_cc100_xl_unigram</td>\n      <td>238000</td>\n      <td>xnli</td>\n      <td>dense_7.5B_lang30_new_cc100_xl_unigram</td>\n      <td>medium</td>\n    </tr>\n    <tr>\n      <th>398</th>\n      <td>xnli</td>\n      <td>dev</td>\n      <td>2490.0</td>\n      <td>bg</td>\n      <td>dev</td>\n      <td>bg</td>\n      <td>xnli_generativenli_mt</td>\n      <td>0</td>\n      <td>0.0</td>\n      <td>False</td>\n      <td>...</td>\n      <td>NaN</td>\n      <td>NaN</td>\n      <td>NaN</td>\n      <td>NaN</td>\n      <td>NaN</td>\n      <td>dense_7.5B_lang30_new_cc100_xl_unigram</td>\n      <td>238000</td>\n      <td>xnli</td>\n      <td>dense_7.5B_lang30_new_cc100_xl_unigram</td>\n      <td>medium</td>\n    </tr>\n    <tr>\n      <th>399</th>\n      <td>xnli</td>\n      <td>dev</td>\n      <td>2490.0</td>\n      <td>bg</td>\n      <td>dev</td>\n      <td>bg</td>\n      <td>xnli_generativenli__en</td>\n      <td>0</td>\n      <td>0.0</td>\n      <td>False</td>\n      <td>...</td>\n      <td>NaN</td>\n      <td>NaN</td>\n      <td>NaN</td>\n      <td>NaN</td>\n      <td>NaN</td>\n      <td>dense_7.5B_lang30_new_cc100_xl_unigram</td>\n      <td>238000</td>\n      <td>xnli</td>\n      <td>dense_7.5B_lang30_new_cc100_xl_unigram</td>\n      <td>medium</td>\n    </tr>\n    <tr>\n      <th>400</th>\n      <td>xnli</td>\n      <td>dev</td>\n      <td>2490.0</td>\n      <td>bg</td>\n      <td>dev</td>\n      <td>bg</td>\n      <td>xnli_generativenli_ht</td>\n      <td>0</td>\n      <td>0.0</td>\n      <td>False</td>\n      <td>...</td>\n      <td>NaN</td>\n      <td>NaN</td>\n      <td>NaN</td>\n      <td>NaN</td>\n      <td>NaN</td>\n      <td>dense_7.5B_lang30_new_cc100_xl_unigram</td>\n      <td>238000</td>\n      <td>xnli</td>\n      <td>dense_7.5B_lang30_new_cc100_xl_unigram</td>\n      <td>medium</td>\n    </tr>\n    <tr>\n      <th>401</th>\n      <td>xnli</td>\n      <td>dev</td>\n      <td>2490.0</td>\n      <td>ru</td>\n      <td>dev</td>\n      <td>ru</td>\n      <td>xnli_generativenli__en</td>\n      <td>0</td>\n      <td>0.0</td>\n      <td>False</td>\n      <td>...</td>\n      <td>NaN</td>\n      <td>NaN</td>\n      <td>NaN</td>\n      <td>NaN</td>\n      <td>NaN</td>\n      <td>dense_7.5B_lang30_new_cc100_xl_unigram</td>\n      <td>238000</td>\n      <td>xnli</td>\n      <td>dense_7.5B_lang30_new_cc100_xl_unigram</td>\n      <td>high</td>\n    </tr>\n    <tr>\n      <th>402</th>\n      <td>xnli</td>\n      <td>dev</td>\n      <td>2490.0</td>\n      <td>ru</td>\n      <td>dev</td>\n      <td>ru</td>\n      <td>xnli_generativenli_ht</td>\n      <td>0</td>\n      <td>0.0</td>\n      <td>False</td>\n      <td>...</td>\n      <td>NaN</td>\n      <td>NaN</td>\n      <td>NaN</td>\n      <td>NaN</td>\n      <td>NaN</td>\n      <td>dense_7.5B_lang30_new_cc100_xl_unigram</td>\n      <td>238000</td>\n      <td>xnli</td>\n      <td>dense_7.5B_lang30_new_cc100_xl_unigram</td>\n      <td>high</td>\n    </tr>\n    <tr>\n      <th>403</th>\n      <td>xnli</td>\n      <td>dev</td>\n      <td>2490.0</td>\n      <td>ru</td>\n      <td>dev</td>\n      <td>ru</td>\n      <td>xnli_generativenli_mt</td>\n      <td>0</td>\n      <td>0.0</td>\n      <td>False</td>\n      <td>...</td>\n      <td>NaN</td>\n      <td>NaN</td>\n      <td>NaN</td>\n      <td>NaN</td>\n      <td>NaN</td>\n      <td>dense_7.5B_lang30_new_cc100_xl_unigram</td>\n      <td>238000</td>\n      <td>xnli</td>\n      <td>dense_7.5B_lang30_new_cc100_xl_unigram</td>\n      <td>high</td>\n    </tr>\n    <tr>\n      <th>404</th>\n      <td>xnli</td>\n      <td>dev</td>\n      <td>2490.0</td>\n      <td>tr</td>\n      <td>dev</td>\n      <td>tr</td>\n      <td>xnli_generativenli__en</td>\n      <td>0</td>\n      <td>0.0</td>\n      <td>False</td>\n      <td>...</td>\n      <td>NaN</td>\n      <td>NaN</td>\n      <td>NaN</td>\n      <td>NaN</td>\n      <td>NaN</td>\n      <td>dense_7.5B_lang30_new_cc100_xl_unigram</td>\n      <td>238000</td>\n      <td>xnli</td>\n      <td>dense_7.5B_lang30_new_cc100_xl_unigram</td>\n      <td>medium</td>\n    </tr>\n    <tr>\n      <th>405</th>\n      <td>xnli</td>\n      <td>dev</td>\n      <td>2490.0</td>\n      <td>tr</td>\n      <td>dev</td>\n      <td>tr</td>\n      <td>xnli_generativenli_ht</td>\n      <td>0</td>\n      <td>0.0</td>\n      <td>False</td>\n      <td>...</td>\n      <td>NaN</td>\n      <td>NaN</td>\n      <td>NaN</td>\n      <td>NaN</td>\n      <td>NaN</td>\n      <td>dense_7.5B_lang30_new_cc100_xl_unigram</td>\n      <td>238000</td>\n      <td>xnli</td>\n      <td>dense_7.5B_lang30_new_cc100_xl_unigram</td>\n      <td>medium</td>\n    </tr>\n    <tr>\n      <th>406</th>\n      <td>xnli</td>\n      <td>dev</td>\n      <td>2490.0</td>\n      <td>tr</td>\n      <td>dev</td>\n      <td>tr</td>\n      <td>xnli_generativenli_mt</td>\n      <td>0</td>\n      <td>0.0</td>\n      <td>False</td>\n      <td>...</td>\n      <td>NaN</td>\n      <td>NaN</td>\n      <td>NaN</td>\n      <td>NaN</td>\n      <td>NaN</td>\n      <td>dense_7.5B_lang30_new_cc100_xl_unigram</td>\n      <td>238000</td>\n      <td>xnli</td>\n      <td>dense_7.5B_lang30_new_cc100_xl_unigram</td>\n      <td>medium</td>\n    </tr>\n    <tr>\n      <th>407</th>\n      <td>xnli</td>\n      <td>dev</td>\n      <td>2490.0</td>\n      <td>ar</td>\n      <td>dev</td>\n      <td>ar</td>\n      <td>xnli_generativenli__en</td>\n      <td>0</td>\n      <td>0.0</td>\n      <td>False</td>\n      <td>...</td>\n      <td>NaN</td>\n      <td>NaN</td>\n      <td>NaN</td>\n      <td>NaN</td>\n      <td>NaN</td>\n      <td>dense_7.5B_lang30_new_cc100_xl_unigram</td>\n      <td>238000</td>\n      <td>xnli</td>\n      <td>dense_7.5B_lang30_new_cc100_xl_unigram</td>\n      <td>high</td>\n    </tr>\n    <tr>\n      <th>408</th>\n      <td>xnli</td>\n      <td>dev</td>\n      <td>2490.0</td>\n      <td>ar</td>\n      <td>dev</td>\n      <td>ar</td>\n      <td>xnli_generativenli_ht</td>\n      <td>0</td>\n      <td>0.0</td>\n      <td>False</td>\n      <td>...</td>\n      <td>NaN</td>\n      <td>NaN</td>\n      <td>NaN</td>\n      <td>NaN</td>\n      <td>NaN</td>\n      <td>dense_7.5B_lang30_new_cc100_xl_unigram</td>\n      <td>238000</td>\n      <td>xnli</td>\n      <td>dense_7.5B_lang30_new_cc100_xl_unigram</td>\n      <td>high</td>\n    </tr>\n    <tr>\n      <th>409</th>\n      <td>xnli</td>\n      <td>dev</td>\n      <td>2490.0</td>\n      <td>ar</td>\n      <td>dev</td>\n      <td>ar</td>\n      <td>xnli_generativenli_mt</td>\n      <td>0</td>\n      <td>0.0</td>\n      <td>False</td>\n      <td>...</td>\n      <td>NaN</td>\n      <td>NaN</td>\n      <td>NaN</td>\n      <td>NaN</td>\n      <td>NaN</td>\n      <td>dense_7.5B_lang30_new_cc100_xl_unigram</td>\n      <td>238000</td>\n      <td>xnli</td>\n      <td>dense_7.5B_lang30_new_cc100_xl_unigram</td>\n      <td>high</td>\n    </tr>\n    <tr>\n      <th>410</th>\n      <td>xnli</td>\n      <td>dev</td>\n      <td>2490.0</td>\n      <td>vi</td>\n      <td>dev</td>\n      <td>vi</td>\n      <td>xnli_generativenli__en</td>\n      <td>0</td>\n      <td>0.0</td>\n      <td>False</td>\n      <td>...</td>\n      <td>NaN</td>\n      <td>NaN</td>\n      <td>NaN</td>\n      <td>NaN</td>\n      <td>NaN</td>\n      <td>dense_7.5B_lang30_new_cc100_xl_unigram</td>\n      <td>238000</td>\n      <td>xnli</td>\n      <td>dense_7.5B_lang30_new_cc100_xl_unigram</td>\n      <td>medium</td>\n    </tr>\n    <tr>\n      <th>411</th>\n      <td>xnli</td>\n      <td>dev</td>\n      <td>2490.0</td>\n      <td>vi</td>\n      <td>dev</td>\n      <td>vi</td>\n      <td>xnli_generativenli_ht</td>\n      <td>0</td>\n      <td>0.0</td>\n      <td>False</td>\n      <td>...</td>\n      <td>NaN</td>\n      <td>NaN</td>\n      <td>NaN</td>\n      <td>NaN</td>\n      <td>NaN</td>\n      <td>dense_7.5B_lang30_new_cc100_xl_unigram</td>\n      <td>238000</td>\n      <td>xnli</td>\n      <td>dense_7.5B_lang30_new_cc100_xl_unigram</td>\n      <td>medium</td>\n    </tr>\n    <tr>\n      <th>412</th>\n      <td>xnli</td>\n      <td>dev</td>\n      <td>2490.0</td>\n      <td>vi</td>\n      <td>dev</td>\n      <td>vi</td>\n      <td>xnli_generativenli_mt</td>\n      <td>0</td>\n      <td>0.0</td>\n      <td>False</td>\n      <td>...</td>\n      <td>NaN</td>\n      <td>NaN</td>\n      <td>NaN</td>\n      <td>NaN</td>\n      <td>NaN</td>\n      <td>dense_7.5B_lang30_new_cc100_xl_unigram</td>\n      <td>238000</td>\n      <td>xnli</td>\n      <td>dense_7.5B_lang30_new_cc100_xl_unigram</td>\n      <td>medium</td>\n    </tr>\n    <tr>\n      <th>413</th>\n      <td>xnli</td>\n      <td>dev</td>\n      <td>2490.0</td>\n      <td>th</td>\n      <td>dev</td>\n      <td>th</td>\n      <td>xnli_generativenli_ht</td>\n      <td>0</td>\n      <td>0.0</td>\n      <td>False</td>\n      <td>...</td>\n      <td>NaN</td>\n      <td>NaN</td>\n      <td>NaN</td>\n      <td>NaN</td>\n      <td>NaN</td>\n      <td>dense_7.5B_lang30_new_cc100_xl_unigram</td>\n      <td>238000</td>\n      <td>xnli</td>\n      <td>dense_7.5B_lang30_new_cc100_xl_unigram</td>\n      <td>medium</td>\n    </tr>\n    <tr>\n      <th>414</th>\n      <td>xnli</td>\n      <td>dev</td>\n      <td>2490.0</td>\n      <td>th</td>\n      <td>dev</td>\n      <td>th</td>\n      <td>xnli_generativenli_mt</td>\n      <td>0</td>\n      <td>0.0</td>\n      <td>False</td>\n      <td>...</td>\n      <td>NaN</td>\n      <td>NaN</td>\n      <td>NaN</td>\n      <td>NaN</td>\n      <td>NaN</td>\n      <td>dense_7.5B_lang30_new_cc100_xl_unigram</td>\n      <td>238000</td>\n      <td>xnli</td>\n      <td>dense_7.5B_lang30_new_cc100_xl_unigram</td>\n      <td>medium</td>\n    </tr>\n    <tr>\n      <th>415</th>\n      <td>xnli</td>\n      <td>dev</td>\n      <td>2490.0</td>\n      <td>th</td>\n      <td>dev</td>\n      <td>th</td>\n      <td>xnli_generativenli__en</td>\n      <td>0</td>\n      <td>0.0</td>\n      <td>False</td>\n      <td>...</td>\n      <td>NaN</td>\n      <td>NaN</td>\n      <td>NaN</td>\n      <td>NaN</td>\n      <td>NaN</td>\n      <td>dense_7.5B_lang30_new_cc100_xl_unigram</td>\n      <td>238000</td>\n      <td>xnli</td>\n      <td>dense_7.5B_lang30_new_cc100_xl_unigram</td>\n      <td>medium</td>\n    </tr>\n    <tr>\n      <th>416</th>\n      <td>xnli</td>\n      <td>dev</td>\n      <td>2490.0</td>\n      <td>zh</td>\n      <td>dev</td>\n      <td>zh</td>\n      <td>xnli_generativenli_ht</td>\n      <td>0</td>\n      <td>0.0</td>\n      <td>False</td>\n      <td>...</td>\n      <td>NaN</td>\n      <td>NaN</td>\n      <td>NaN</td>\n      <td>NaN</td>\n      <td>NaN</td>\n      <td>dense_7.5B_lang30_new_cc100_xl_unigram</td>\n      <td>238000</td>\n      <td>xnli</td>\n      <td>dense_7.5B_lang30_new_cc100_xl_unigram</td>\n      <td>high</td>\n    </tr>\n    <tr>\n      <th>417</th>\n      <td>xnli</td>\n      <td>dev</td>\n      <td>2490.0</td>\n      <td>zh</td>\n      <td>dev</td>\n      <td>zh</td>\n      <td>xnli_generativenli_mt</td>\n      <td>0</td>\n      <td>0.0</td>\n      <td>False</td>\n      <td>...</td>\n      <td>NaN</td>\n      <td>NaN</td>\n      <td>NaN</td>\n      <td>NaN</td>\n      <td>NaN</td>\n      <td>dense_7.5B_lang30_new_cc100_xl_unigram</td>\n      <td>238000</td>\n      <td>xnli</td>\n      <td>dense_7.5B_lang30_new_cc100_xl_unigram</td>\n      <td>high</td>\n    </tr>\n    <tr>\n      <th>418</th>\n      <td>xnli</td>\n      <td>dev</td>\n      <td>2490.0</td>\n      <td>zh</td>\n      <td>dev</td>\n      <td>zh</td>\n      <td>xnli_generativenli__en</td>\n      <td>0</td>\n      <td>0.0</td>\n      <td>False</td>\n      <td>...</td>\n      <td>NaN</td>\n      <td>NaN</td>\n      <td>NaN</td>\n      <td>NaN</td>\n      <td>NaN</td>\n      <td>dense_7.5B_lang30_new_cc100_xl_unigram</td>\n      <td>238000</td>\n      <td>xnli</td>\n      <td>dense_7.5B_lang30_new_cc100_xl_unigram</td>\n      <td>high</td>\n    </tr>\n    <tr>\n      <th>419</th>\n      <td>xnli</td>\n      <td>dev</td>\n      <td>2490.0</td>\n      <td>hi</td>\n      <td>dev</td>\n      <td>hi</td>\n      <td>xnli_generativenli_ht</td>\n      <td>0</td>\n      <td>0.0</td>\n      <td>False</td>\n      <td>...</td>\n      <td>NaN</td>\n      <td>NaN</td>\n      <td>NaN</td>\n      <td>NaN</td>\n      <td>NaN</td>\n      <td>dense_7.5B_lang30_new_cc100_xl_unigram</td>\n      <td>238000</td>\n      <td>xnli</td>\n      <td>dense_7.5B_lang30_new_cc100_xl_unigram</td>\n      <td>medium</td>\n    </tr>\n    <tr>\n      <th>420</th>\n      <td>xnli</td>\n      <td>dev</td>\n      <td>2490.0</td>\n      <td>hi</td>\n      <td>dev</td>\n      <td>hi</td>\n      <td>xnli_generativenli_mt</td>\n      <td>0</td>\n      <td>0.0</td>\n      <td>False</td>\n      <td>...</td>\n      <td>NaN</td>\n      <td>NaN</td>\n      <td>NaN</td>\n      <td>NaN</td>\n      <td>NaN</td>\n      <td>dense_7.5B_lang30_new_cc100_xl_unigram</td>\n      <td>238000</td>\n      <td>xnli</td>\n      <td>dense_7.5B_lang30_new_cc100_xl_unigram</td>\n      <td>medium</td>\n    </tr>\n    <tr>\n      <th>421</th>\n      <td>xnli</td>\n      <td>dev</td>\n      <td>2490.0</td>\n      <td>hi</td>\n      <td>dev</td>\n      <td>hi</td>\n      <td>xnli_generativenli__en</td>\n      <td>0</td>\n      <td>0.0</td>\n      <td>False</td>\n      <td>...</td>\n      <td>NaN</td>\n      <td>NaN</td>\n      <td>NaN</td>\n      <td>NaN</td>\n      <td>NaN</td>\n      <td>dense_7.5B_lang30_new_cc100_xl_unigram</td>\n      <td>238000</td>\n      <td>xnli</td>\n      <td>dense_7.5B_lang30_new_cc100_xl_unigram</td>\n      <td>medium</td>\n    </tr>\n    <tr>\n      <th>422</th>\n      <td>xnli</td>\n      <td>dev</td>\n      <td>2490.0</td>\n      <td>sw</td>\n      <td>dev</td>\n      <td>sw</td>\n      <td>xnli_generativenli_ht</td>\n      <td>0</td>\n      <td>0.0</td>\n      <td>False</td>\n      <td>...</td>\n      <td>NaN</td>\n      <td>NaN</td>\n      <td>NaN</td>\n      <td>NaN</td>\n      <td>NaN</td>\n      <td>dense_7.5B_lang30_new_cc100_xl_unigram</td>\n      <td>238000</td>\n      <td>xnli</td>\n      <td>dense_7.5B_lang30_new_cc100_xl_unigram</td>\n      <td>low</td>\n    </tr>\n    <tr>\n      <th>423</th>\n      <td>xnli</td>\n      <td>dev</td>\n      <td>2490.0</td>\n      <td>sw</td>\n      <td>dev</td>\n      <td>sw</td>\n      <td>xnli_generativenli_mt</td>\n      <td>0</td>\n      <td>0.0</td>\n      <td>False</td>\n      <td>...</td>\n      <td>NaN</td>\n      <td>NaN</td>\n      <td>NaN</td>\n      <td>NaN</td>\n      <td>NaN</td>\n      <td>dense_7.5B_lang30_new_cc100_xl_unigram</td>\n      <td>238000</td>\n      <td>xnli</td>\n      <td>dense_7.5B_lang30_new_cc100_xl_unigram</td>\n      <td>low</td>\n    </tr>\n    <tr>\n      <th>424</th>\n      <td>xnli</td>\n      <td>dev</td>\n      <td>2490.0</td>\n      <td>sw</td>\n      <td>dev</td>\n      <td>sw</td>\n      <td>xnli_generativenli__en</td>\n      <td>0</td>\n      <td>0.0</td>\n      <td>False</td>\n      <td>...</td>\n      <td>NaN</td>\n      <td>NaN</td>\n      <td>NaN</td>\n      <td>NaN</td>\n      <td>NaN</td>\n      <td>dense_7.5B_lang30_new_cc100_xl_unigram</td>\n      <td>238000</td>\n      <td>xnli</td>\n      <td>dense_7.5B_lang30_new_cc100_xl_unigram</td>\n      <td>low</td>\n    </tr>\n    <tr>\n      <th>425</th>\n      <td>xnli</td>\n      <td>dev</td>\n      <td>2490.0</td>\n      <td>ur</td>\n      <td>dev</td>\n      <td>ur</td>\n      <td>xnli_generativenli__en</td>\n      <td>0</td>\n      <td>0.0</td>\n      <td>False</td>\n      <td>...</td>\n      <td>NaN</td>\n      <td>NaN</td>\n      <td>NaN</td>\n      <td>NaN</td>\n      <td>NaN</td>\n      <td>dense_7.5B_lang30_new_cc100_xl_unigram</td>\n      <td>238000</td>\n      <td>xnli</td>\n      <td>dense_7.5B_lang30_new_cc100_xl_unigram</td>\n      <td>low</td>\n    </tr>\n    <tr>\n      <th>426</th>\n      <td>xnli</td>\n      <td>dev</td>\n      <td>2490.0</td>\n      <td>ur</td>\n      <td>dev</td>\n      <td>ur</td>\n      <td>xnli_generativenli_ht</td>\n      <td>0</td>\n      <td>0.0</td>\n      <td>False</td>\n      <td>...</td>\n      <td>NaN</td>\n      <td>NaN</td>\n      <td>NaN</td>\n      <td>NaN</td>\n      <td>NaN</td>\n      <td>dense_7.5B_lang30_new_cc100_xl_unigram</td>\n      <td>238000</td>\n      <td>xnli</td>\n      <td>dense_7.5B_lang30_new_cc100_xl_unigram</td>\n      <td>low</td>\n    </tr>\n    <tr>\n      <th>427</th>\n      <td>xnli</td>\n      <td>dev</td>\n      <td>2490.0</td>\n      <td>ur</td>\n      <td>dev</td>\n      <td>ur</td>\n      <td>xnli_generativenli_mt</td>\n      <td>0</td>\n      <td>0.0</td>\n      <td>False</td>\n      <td>...</td>\n      <td>NaN</td>\n      <td>NaN</td>\n      <td>NaN</td>\n      <td>NaN</td>\n      <td>NaN</td>\n      <td>dense_7.5B_lang30_new_cc100_xl_unigram</td>\n      <td>238000</td>\n      <td>xnli</td>\n      <td>dense_7.5B_lang30_new_cc100_xl_unigram</td>\n      <td>low</td>\n    </tr>\n  </tbody>\n</table>\n<p>45 rows × 26 columns</p>\n</div>",
      "text/plain": "     task eval_set  eval_examples_cnt::mean language train_set train_lang  \\\n383  xnli      dev                   2490.0       en       dev         en   \n384  xnli      dev                   2490.0       en       dev         en   \n385  xnli      dev                   2490.0       en       dev         en   \n386  xnli      dev                   2490.0       fr       dev         fr   \n387  xnli      dev                   2490.0       fr       dev         fr   \n388  xnli      dev                   2490.0       fr       dev         fr   \n389  xnli      dev                   2490.0       es       dev         es   \n390  xnli      dev                   2490.0       es       dev         es   \n391  xnli      dev                   2490.0       es       dev         es   \n392  xnli      dev                   2490.0       de       dev         de   \n393  xnli      dev                   2490.0       de       dev         de   \n394  xnli      dev                   2490.0       de       dev         de   \n395  xnli      dev                   2490.0       el       dev         el   \n396  xnli      dev                   2490.0       el       dev         el   \n397  xnli      dev                   2490.0       el       dev         el   \n398  xnli      dev                   2490.0       bg       dev         bg   \n399  xnli      dev                   2490.0       bg       dev         bg   \n400  xnli      dev                   2490.0       bg       dev         bg   \n401  xnli      dev                   2490.0       ru       dev         ru   \n402  xnli      dev                   2490.0       ru       dev         ru   \n403  xnli      dev                   2490.0       ru       dev         ru   \n404  xnli      dev                   2490.0       tr       dev         tr   \n405  xnli      dev                   2490.0       tr       dev         tr   \n406  xnli      dev                   2490.0       tr       dev         tr   \n407  xnli      dev                   2490.0       ar       dev         ar   \n408  xnli      dev                   2490.0       ar       dev         ar   \n409  xnli      dev                   2490.0       ar       dev         ar   \n410  xnli      dev                   2490.0       vi       dev         vi   \n411  xnli      dev                   2490.0       vi       dev         vi   \n412  xnli      dev                   2490.0       vi       dev         vi   \n413  xnli      dev                   2490.0       th       dev         th   \n414  xnli      dev                   2490.0       th       dev         th   \n415  xnli      dev                   2490.0       th       dev         th   \n416  xnli      dev                   2490.0       zh       dev         zh   \n417  xnli      dev                   2490.0       zh       dev         zh   \n418  xnli      dev                   2490.0       zh       dev         zh   \n419  xnli      dev                   2490.0       hi       dev         hi   \n420  xnli      dev                   2490.0       hi       dev         hi   \n421  xnli      dev                   2490.0       hi       dev         hi   \n422  xnli      dev                   2490.0       sw       dev         sw   \n423  xnli      dev                   2490.0       sw       dev         sw   \n424  xnli      dev                   2490.0       sw       dev         sw   \n425  xnli      dev                   2490.0       ur       dev         ur   \n426  xnli      dev                   2490.0       ur       dev         ur   \n427  xnli      dev                   2490.0       ur       dev         ur   \n\n                   template  nb_few_shot_samples  \\\n383   xnli_generativenli_ht                    0   \n384  xnli_generativenli__en                    0   \n385   xnli_generativenli_mt                    0   \n386   xnli_generativenli_ht                    0   \n387   xnli_generativenli_mt                    0   \n388  xnli_generativenli__en                    0   \n389   xnli_generativenli_ht                    0   \n390   xnli_generativenli_mt                    0   \n391  xnli_generativenli__en                    0   \n392   xnli_generativenli_ht                    0   \n393   xnli_generativenli_mt                    0   \n394  xnli_generativenli__en                    0   \n395   xnli_generativenli_ht                    0   \n396   xnli_generativenli_mt                    0   \n397  xnli_generativenli__en                    0   \n398   xnli_generativenli_mt                    0   \n399  xnli_generativenli__en                    0   \n400   xnli_generativenli_ht                    0   \n401  xnli_generativenli__en                    0   \n402   xnli_generativenli_ht                    0   \n403   xnli_generativenli_mt                    0   \n404  xnli_generativenli__en                    0   \n405   xnli_generativenli_ht                    0   \n406   xnli_generativenli_mt                    0   \n407  xnli_generativenli__en                    0   \n408   xnli_generativenli_ht                    0   \n409   xnli_generativenli_mt                    0   \n410  xnli_generativenli__en                    0   \n411   xnli_generativenli_ht                    0   \n412   xnli_generativenli_mt                    0   \n413   xnli_generativenli_ht                    0   \n414   xnli_generativenli_mt                    0   \n415  xnli_generativenli__en                    0   \n416   xnli_generativenli_ht                    0   \n417   xnli_generativenli_mt                    0   \n418  xnli_generativenli__en                    0   \n419   xnli_generativenli_ht                    0   \n420   xnli_generativenli_mt                    0   \n421  xnli_generativenli__en                    0   \n422   xnli_generativenli_ht                    0   \n423   xnli_generativenli_mt                    0   \n424  xnli_generativenli__en                    0   \n425  xnli_generativenli__en                    0   \n426   xnli_generativenli_ht                    0   \n427   xnli_generativenli_mt                    0   \n\n     nb_trunc_few_shot_samples::mean  calibration  ... accuracy_2 accuracy_3  \\\n383                              0.0        False  ...        NaN        NaN   \n384                              0.0        False  ...        NaN        NaN   \n385                              0.0        False  ...        NaN        NaN   \n386                              0.0        False  ...        NaN        NaN   \n387                              0.0        False  ...        NaN        NaN   \n388                              0.0        False  ...        NaN        NaN   \n389                              0.0        False  ...        NaN        NaN   \n390                              0.0        False  ...        NaN        NaN   \n391                              0.0        False  ...        NaN        NaN   \n392                              0.0        False  ...        NaN        NaN   \n393                              0.0        False  ...        NaN        NaN   \n394                              0.0        False  ...        NaN        NaN   \n395                              0.0        False  ...        NaN        NaN   \n396                              0.0        False  ...        NaN        NaN   \n397                              0.0        False  ...        NaN        NaN   \n398                              0.0        False  ...        NaN        NaN   \n399                              0.0        False  ...        NaN        NaN   \n400                              0.0        False  ...        NaN        NaN   \n401                              0.0        False  ...        NaN        NaN   \n402                              0.0        False  ...        NaN        NaN   \n403                              0.0        False  ...        NaN        NaN   \n404                              0.0        False  ...        NaN        NaN   \n405                              0.0        False  ...        NaN        NaN   \n406                              0.0        False  ...        NaN        NaN   \n407                              0.0        False  ...        NaN        NaN   \n408                              0.0        False  ...        NaN        NaN   \n409                              0.0        False  ...        NaN        NaN   \n410                              0.0        False  ...        NaN        NaN   \n411                              0.0        False  ...        NaN        NaN   \n412                              0.0        False  ...        NaN        NaN   \n413                              0.0        False  ...        NaN        NaN   \n414                              0.0        False  ...        NaN        NaN   \n415                              0.0        False  ...        NaN        NaN   \n416                              0.0        False  ...        NaN        NaN   \n417                              0.0        False  ...        NaN        NaN   \n418                              0.0        False  ...        NaN        NaN   \n419                              0.0        False  ...        NaN        NaN   \n420                              0.0        False  ...        NaN        NaN   \n421                              0.0        False  ...        NaN        NaN   \n422                              0.0        False  ...        NaN        NaN   \n423                              0.0        False  ...        NaN        NaN   \n424                              0.0        False  ...        NaN        NaN   \n425                              0.0        False  ...        NaN        NaN   \n426                              0.0        False  ...        NaN        NaN   \n427                              0.0        False  ...        NaN        NaN   \n\n     accuracy_4  accuracy_sum::mean  accuracy_sum::std  \\\n383         NaN                 NaN                NaN   \n384         NaN                 NaN                NaN   \n385         NaN                 NaN                NaN   \n386         NaN                 NaN                NaN   \n387         NaN                 NaN                NaN   \n388         NaN                 NaN                NaN   \n389         NaN                 NaN                NaN   \n390         NaN                 NaN                NaN   \n391         NaN                 NaN                NaN   \n392         NaN                 NaN                NaN   \n393         NaN                 NaN                NaN   \n394         NaN                 NaN                NaN   \n395         NaN                 NaN                NaN   \n396         NaN                 NaN                NaN   \n397         NaN                 NaN                NaN   \n398         NaN                 NaN                NaN   \n399         NaN                 NaN                NaN   \n400         NaN                 NaN                NaN   \n401         NaN                 NaN                NaN   \n402         NaN                 NaN                NaN   \n403         NaN                 NaN                NaN   \n404         NaN                 NaN                NaN   \n405         NaN                 NaN                NaN   \n406         NaN                 NaN                NaN   \n407         NaN                 NaN                NaN   \n408         NaN                 NaN                NaN   \n409         NaN                 NaN                NaN   \n410         NaN                 NaN                NaN   \n411         NaN                 NaN                NaN   \n412         NaN                 NaN                NaN   \n413         NaN                 NaN                NaN   \n414         NaN                 NaN                NaN   \n415         NaN                 NaN                NaN   \n416         NaN                 NaN                NaN   \n417         NaN                 NaN                NaN   \n418         NaN                 NaN                NaN   \n419         NaN                 NaN                NaN   \n420         NaN                 NaN                NaN   \n421         NaN                 NaN                NaN   \n422         NaN                 NaN                NaN   \n423         NaN                 NaN                NaN   \n424         NaN                 NaN                NaN   \n425         NaN                 NaN                NaN   \n426         NaN                 NaN                NaN   \n427         NaN                 NaN                NaN   \n\n                                      model    step  meta_task  \\\n383  dense_7.5B_lang30_new_cc100_xl_unigram  238000       xnli   \n384  dense_7.5B_lang30_new_cc100_xl_unigram  238000       xnli   \n385  dense_7.5B_lang30_new_cc100_xl_unigram  238000       xnli   \n386  dense_7.5B_lang30_new_cc100_xl_unigram  238000       xnli   \n387  dense_7.5B_lang30_new_cc100_xl_unigram  238000       xnli   \n388  dense_7.5B_lang30_new_cc100_xl_unigram  238000       xnli   \n389  dense_7.5B_lang30_new_cc100_xl_unigram  238000       xnli   \n390  dense_7.5B_lang30_new_cc100_xl_unigram  238000       xnli   \n391  dense_7.5B_lang30_new_cc100_xl_unigram  238000       xnli   \n392  dense_7.5B_lang30_new_cc100_xl_unigram  238000       xnli   \n393  dense_7.5B_lang30_new_cc100_xl_unigram  238000       xnli   \n394  dense_7.5B_lang30_new_cc100_xl_unigram  238000       xnli   \n395  dense_7.5B_lang30_new_cc100_xl_unigram  238000       xnli   \n396  dense_7.5B_lang30_new_cc100_xl_unigram  238000       xnli   \n397  dense_7.5B_lang30_new_cc100_xl_unigram  238000       xnli   \n398  dense_7.5B_lang30_new_cc100_xl_unigram  238000       xnli   \n399  dense_7.5B_lang30_new_cc100_xl_unigram  238000       xnli   \n400  dense_7.5B_lang30_new_cc100_xl_unigram  238000       xnli   \n401  dense_7.5B_lang30_new_cc100_xl_unigram  238000       xnli   \n402  dense_7.5B_lang30_new_cc100_xl_unigram  238000       xnli   \n403  dense_7.5B_lang30_new_cc100_xl_unigram  238000       xnli   \n404  dense_7.5B_lang30_new_cc100_xl_unigram  238000       xnli   \n405  dense_7.5B_lang30_new_cc100_xl_unigram  238000       xnli   \n406  dense_7.5B_lang30_new_cc100_xl_unigram  238000       xnli   \n407  dense_7.5B_lang30_new_cc100_xl_unigram  238000       xnli   \n408  dense_7.5B_lang30_new_cc100_xl_unigram  238000       xnli   \n409  dense_7.5B_lang30_new_cc100_xl_unigram  238000       xnli   \n410  dense_7.5B_lang30_new_cc100_xl_unigram  238000       xnli   \n411  dense_7.5B_lang30_new_cc100_xl_unigram  238000       xnli   \n412  dense_7.5B_lang30_new_cc100_xl_unigram  238000       xnli   \n413  dense_7.5B_lang30_new_cc100_xl_unigram  238000       xnli   \n414  dense_7.5B_lang30_new_cc100_xl_unigram  238000       xnli   \n415  dense_7.5B_lang30_new_cc100_xl_unigram  238000       xnli   \n416  dense_7.5B_lang30_new_cc100_xl_unigram  238000       xnli   \n417  dense_7.5B_lang30_new_cc100_xl_unigram  238000       xnli   \n418  dense_7.5B_lang30_new_cc100_xl_unigram  238000       xnli   \n419  dense_7.5B_lang30_new_cc100_xl_unigram  238000       xnli   \n420  dense_7.5B_lang30_new_cc100_xl_unigram  238000       xnli   \n421  dense_7.5B_lang30_new_cc100_xl_unigram  238000       xnli   \n422  dense_7.5B_lang30_new_cc100_xl_unigram  238000       xnli   \n423  dense_7.5B_lang30_new_cc100_xl_unigram  238000       xnli   \n424  dense_7.5B_lang30_new_cc100_xl_unigram  238000       xnli   \n425  dense_7.5B_lang30_new_cc100_xl_unigram  238000       xnli   \n426  dense_7.5B_lang30_new_cc100_xl_unigram  238000       xnli   \n427  dense_7.5B_lang30_new_cc100_xl_unigram  238000       xnli   \n\n                                   model_id  resource_level  \n383  dense_7.5B_lang30_new_cc100_xl_unigram            high  \n384  dense_7.5B_lang30_new_cc100_xl_unigram            high  \n385  dense_7.5B_lang30_new_cc100_xl_unigram            high  \n386  dense_7.5B_lang30_new_cc100_xl_unigram            high  \n387  dense_7.5B_lang30_new_cc100_xl_unigram            high  \n388  dense_7.5B_lang30_new_cc100_xl_unigram            high  \n389  dense_7.5B_lang30_new_cc100_xl_unigram            high  \n390  dense_7.5B_lang30_new_cc100_xl_unigram            high  \n391  dense_7.5B_lang30_new_cc100_xl_unigram            high  \n392  dense_7.5B_lang30_new_cc100_xl_unigram            high  \n393  dense_7.5B_lang30_new_cc100_xl_unigram            high  \n394  dense_7.5B_lang30_new_cc100_xl_unigram            high  \n395  dense_7.5B_lang30_new_cc100_xl_unigram          medium  \n396  dense_7.5B_lang30_new_cc100_xl_unigram          medium  \n397  dense_7.5B_lang30_new_cc100_xl_unigram          medium  \n398  dense_7.5B_lang30_new_cc100_xl_unigram          medium  \n399  dense_7.5B_lang30_new_cc100_xl_unigram          medium  \n400  dense_7.5B_lang30_new_cc100_xl_unigram          medium  \n401  dense_7.5B_lang30_new_cc100_xl_unigram            high  \n402  dense_7.5B_lang30_new_cc100_xl_unigram            high  \n403  dense_7.5B_lang30_new_cc100_xl_unigram            high  \n404  dense_7.5B_lang30_new_cc100_xl_unigram          medium  \n405  dense_7.5B_lang30_new_cc100_xl_unigram          medium  \n406  dense_7.5B_lang30_new_cc100_xl_unigram          medium  \n407  dense_7.5B_lang30_new_cc100_xl_unigram            high  \n408  dense_7.5B_lang30_new_cc100_xl_unigram            high  \n409  dense_7.5B_lang30_new_cc100_xl_unigram            high  \n410  dense_7.5B_lang30_new_cc100_xl_unigram          medium  \n411  dense_7.5B_lang30_new_cc100_xl_unigram          medium  \n412  dense_7.5B_lang30_new_cc100_xl_unigram          medium  \n413  dense_7.5B_lang30_new_cc100_xl_unigram          medium  \n414  dense_7.5B_lang30_new_cc100_xl_unigram          medium  \n415  dense_7.5B_lang30_new_cc100_xl_unigram          medium  \n416  dense_7.5B_lang30_new_cc100_xl_unigram            high  \n417  dense_7.5B_lang30_new_cc100_xl_unigram            high  \n418  dense_7.5B_lang30_new_cc100_xl_unigram            high  \n419  dense_7.5B_lang30_new_cc100_xl_unigram          medium  \n420  dense_7.5B_lang30_new_cc100_xl_unigram          medium  \n421  dense_7.5B_lang30_new_cc100_xl_unigram          medium  \n422  dense_7.5B_lang30_new_cc100_xl_unigram             low  \n423  dense_7.5B_lang30_new_cc100_xl_unigram             low  \n424  dense_7.5B_lang30_new_cc100_xl_unigram             low  \n425  dense_7.5B_lang30_new_cc100_xl_unigram             low  \n426  dense_7.5B_lang30_new_cc100_xl_unigram             low  \n427  dense_7.5B_lang30_new_cc100_xl_unigram             low  \n\n[45 rows x 26 columns]"
     },
     "execution_count": 19,
     "metadata": {},
     "output_type": "execute_result"
    }
   ],
   "source": [
    "xnli_result_df"
   ]
  },
  {
   "cell_type": "code",
   "execution_count": 11,
   "metadata": {},
   "outputs": [
    {
     "name": "stdout",
     "output_type": "stream",
     "text": [
      "\\begin{tabular}{lrrrrrrrrrrrrrrr}\n",
      "\\toprule\n",
      "{} & \\multicolumn{15}{l}{accuracy::mean} \\\\\n",
      "language &             ar &   bg &   de &   el &   en &   es &   fr &   hi &   ru &   sw &   th &   tr &   ur &   vi &   zh \\\\\n",
      "template               &                &      &      &      &      &      &      &      &      &      &      &      &      &      &      \\\\\n",
      "\\midrule\n",
      "xnli\\_generativenli\\_\\_en &           47.5 & 50.0 & 42.4 & 47.1 & 54.5 & 38.2 & 50.7 & 43.4 & 47.2 & 46.2 & 46.1 & 44.6 & 42.7 & 47.5 & 45.0 \\\\\n",
      "xnli\\_generativenli\\_ht  &           46.0 & 49.3 & 49.5 & 47.1 & 54.5 & 50.0 & 50.4 & 37.5 & 47.4 & 44.4 & 34.9 & 46.3 & 33.7 & 45.2 & 34.1 \\\\\n",
      "xnli\\_generativenli\\_mt  &           46.5 & 49.3 & 37.6 & 45.4 & 54.5 & 37.5 & 47.8 & 38.8 & 40.7 & 44.4 & 33.3 & 37.1 & 33.5 & 35.4 & 34.6 \\\\\n",
      "\\bottomrule\n",
      "\\end{tabular}\n",
      "\n"
     ]
    }
   ],
   "source": [
    "\n",
    "    "
   ]
  },
  {
   "cell_type": "code",
   "execution_count": 7,
   "metadata": {},
   "outputs": [
    {
     "data": {
      "text/html": "<div>\n<style scoped>\n    .dataframe tbody tr th:only-of-type {\n        vertical-align: middle;\n    }\n\n    .dataframe tbody tr th {\n        vertical-align: top;\n    }\n\n    .dataframe thead tr th {\n        text-align: left;\n    }\n\n    .dataframe thead tr:last-of-type th {\n        text-align: right;\n    }\n</style>\n<table border=\"1\" class=\"dataframe\">\n  <thead>\n    <tr>\n      <th></th>\n      <th colspan=\"15\" halign=\"left\">accuracy::mean</th>\n    </tr>\n    <tr>\n      <th>language</th>\n      <th>ar</th>\n      <th>bg</th>\n      <th>de</th>\n      <th>el</th>\n      <th>en</th>\n      <th>es</th>\n      <th>fr</th>\n      <th>hi</th>\n      <th>ru</th>\n      <th>sw</th>\n      <th>th</th>\n      <th>tr</th>\n      <th>ur</th>\n      <th>vi</th>\n      <th>zh</th>\n    </tr>\n    <tr>\n      <th>template</th>\n      <th></th>\n      <th></th>\n      <th></th>\n      <th></th>\n      <th></th>\n      <th></th>\n      <th></th>\n      <th></th>\n      <th></th>\n      <th></th>\n      <th></th>\n      <th></th>\n      <th></th>\n      <th></th>\n      <th></th>\n    </tr>\n  </thead>\n  <tbody>\n    <tr>\n      <th>xnli_generativenli__en</th>\n      <td>47.510040</td>\n      <td>49.959839</td>\n      <td>42.369478</td>\n      <td>47.068273</td>\n      <td>54.497992</td>\n      <td>38.192771</td>\n      <td>50.722892</td>\n      <td>43.373494</td>\n      <td>47.188755</td>\n      <td>46.22490</td>\n      <td>46.064257</td>\n      <td>44.618474</td>\n      <td>42.730924</td>\n      <td>47.510040</td>\n      <td>45.020080</td>\n    </tr>\n    <tr>\n      <th>xnli_generativenli_ht</th>\n      <td>46.024096</td>\n      <td>49.277108</td>\n      <td>49.518072</td>\n      <td>47.148594</td>\n      <td>54.497992</td>\n      <td>49.959839</td>\n      <td>50.441767</td>\n      <td>37.469880</td>\n      <td>47.389558</td>\n      <td>44.37751</td>\n      <td>34.899598</td>\n      <td>46.265060</td>\n      <td>33.654618</td>\n      <td>45.220884</td>\n      <td>34.056225</td>\n    </tr>\n    <tr>\n      <th>xnli_generativenli_mt</th>\n      <td>46.506024</td>\n      <td>49.277108</td>\n      <td>37.550201</td>\n      <td>45.381526</td>\n      <td>54.497992</td>\n      <td>37.510040</td>\n      <td>47.751004</td>\n      <td>38.835341</td>\n      <td>40.722892</td>\n      <td>44.37751</td>\n      <td>33.253012</td>\n      <td>37.148594</td>\n      <td>33.493976</td>\n      <td>35.421687</td>\n      <td>34.618474</td>\n    </tr>\n  </tbody>\n</table>\n</div>",
      "text/plain": "                       accuracy::mean                                   \\\nlanguage                           ar         bg         de         el   \ntemplate                                                                 \nxnli_generativenli__en      47.510040  49.959839  42.369478  47.068273   \nxnli_generativenli_ht       46.024096  49.277108  49.518072  47.148594   \nxnli_generativenli_mt       46.506024  49.277108  37.550201  45.381526   \n\n                                                                               \\\nlanguage                       en         es         fr         hi         ru   \ntemplate                                                                        \nxnli_generativenli__en  54.497992  38.192771  50.722892  43.373494  47.188755   \nxnli_generativenli_ht   54.497992  49.959839  50.441767  37.469880  47.389558   \nxnli_generativenli_mt   54.497992  37.510040  47.751004  38.835341  40.722892   \n\n                                                                              \\\nlanguage                      sw         th         tr         ur         vi   \ntemplate                                                                       \nxnli_generativenli__en  46.22490  46.064257  44.618474  42.730924  47.510040   \nxnli_generativenli_ht   44.37751  34.899598  46.265060  33.654618  45.220884   \nxnli_generativenli_mt   44.37751  33.253012  37.148594  33.493976  35.421687   \n\n                                   \nlanguage                       zh  \ntemplate                           \nxnli_generativenli__en  45.020080  \nxnli_generativenli_ht   34.056225  \nxnli_generativenli_mt   34.618474  "
     },
     "execution_count": 7,
     "metadata": {},
     "output_type": "execute_result"
    }
   ],
   "source": [
    "result_table"
   ]
  },
  {
   "cell_type": "code",
   "execution_count": 101,
   "metadata": {},
   "outputs": [],
   "source": [
    "# df_mapping = pd.DataFrame({'task': all_eval_tasks})\n",
    "# sort_mapping = df_mapping.reset_index().set_index('task')\n",
    "result_df = pd.concat([en_result_df, multi_result_df]).drop_duplicates(\n",
    "    subset=[\n",
    "        'task',\n",
    "        'eval_set',\n",
    "        'language',\n",
    "        'train_set',\n",
    "        'train_lang',\n",
    "        'template',\n",
    "        'nb_few_shot_samples',\n",
    "        'calibration',\n",
    "        'run_params::scoring',\n",
    "        'model_name',\n",
    "        \"accuracy::mean\",\n",
    "        \"accuracy::std\",\n",
    "        'model',\n",
    "        'step',\n",
    "        'meta_task',\n",
    "        'model_id',\n",
    "        'num_tokens_B',\n",
    "        'num_EN_tokens_B',\n",
    "        'num_gpu_days'\n",
    "    ],\n",
    "    ignore_index=True\n",
    ")\n",
    "filtered_result_df = result_df[last_checkpoint(result_df) & num_few_shot_samples(result_df) & template_selection(result_df) & multilingual_checkpoints(result_df)] \n",
    "grouped_filtered_result_df = filtered_result_df.groupby(['task', 'eval_set', 'language', 'train_set', 'train_lang', 'template', 'calibration', 'model_name'])\n",
    "grouped_filtered_result_df = grouped_filtered_result_df.apply(lambda a: a.sort_values('nb_few_shot_samples'))\n",
    "grouped_filtered_result_df.to_csv('/checkpoint/victorialin/few_shot/dense_7.5B_lang30_new_cc100_xl_unigram_en_tasks/few_shot.tsv', sep='\\t')\n",
    "\n",
    "multi_filtered_result_df = filtered_result_df[multi_final_eval_splits(filtered_result_df) & all_multi_eval_tasks(filtered_result_df)]\n",
    "multi_grouped_filtered_result_df = multi_filtered_result_df.groupby(['task', 'eval_set', 'language', 'train_set', 'train_lang', 'template', 'calibration', 'model_name'])\n",
    "multi_grouped_filtered_result_df = multi_grouped_filtered_result_df.apply(lambda a: a.sort_values('nb_few_shot_samples'))\n",
    "multi_grouped_filtered_result_df.to_csv('/checkpoint/victorialin/few_shot/dense_7.5B_lang30_new_cc100_xl_unigram_en_tasks/multi_few_shot.tsv', sep='\\t')\n",
    "\n",
    "en_filtered_result_df = filtered_result_df[en_final_eval_splits(filtered_result_df) & all_en_eval_tasks(filtered_result_df) & en_only(filtered_result_df)]\n",
    "en_grouped_filtered_result_df = en_filtered_result_df.groupby(['task', 'eval_set', 'language', 'train_set', 'train_lang', 'template', 'calibration', 'model_name'])\n",
    "en_grouped_filtered_result_df = en_grouped_filtered_result_df.apply(lambda a: a.sort_values('nb_few_shot_samples'))\n",
    "en_grouped_filtered_result_df.to_csv('/checkpoint/victorialin/few_shot/dense_7.5B_lang30_new_cc100_xl_unigram_en_tasks/en_few_shot.tsv', sep='\\t')"
   ]
  },
  {
   "cell_type": "code",
   "execution_count": null,
   "metadata": {},
   "outputs": [],
   "source": []
  }
 ],
 "metadata": {
  "kernelspec": {
   "display_name": "Python 3.8.5 64-bit",
   "metadata": {
    "interpreter": {
     "hash": "916dbcbb3f70747c44a77c7bcd40155683ae19c65e1c03b4aa3499c5328201f1"
    }
   },
   "name": "python3"
  },
  "language_info": {
   "codemirror_mode": {
    "name": "ipython",
    "version": 3
   },
   "file_extension": ".py",
   "mimetype": "text/x-python",
   "name": "python",
   "nbconvert_exporter": "python",
   "pygments_lexer": "ipython3",
   "version": "3.8.5"
  },
  "orig_nbformat": 2
 },
 "nbformat": 4,
 "nbformat_minor": 2
}