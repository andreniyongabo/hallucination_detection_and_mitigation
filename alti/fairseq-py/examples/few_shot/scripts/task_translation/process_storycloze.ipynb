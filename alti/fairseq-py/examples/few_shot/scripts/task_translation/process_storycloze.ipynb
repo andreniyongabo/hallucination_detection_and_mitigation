{
 "cells": [
  {
   "cell_type": "markdown",
   "metadata": {},
   "source": [
    "# Process `storycloze` for translations"
   ]
  },
  {
   "cell_type": "code",
   "execution_count": 1,
   "metadata": {},
   "outputs": [
    {
     "data": {
      "text/plain": [
       "{'InputStoryid': '138d5bfb-05cc-41e3-bf2c-fa85ebad14e2',\n",
       " 'InputSentence1': 'Rick grew up in a troubled household.',\n",
       " 'InputSentence2': 'He never found good support in family, and turned to gangs.',\n",
       " 'InputSentence3': \"It wasn't long before Rick got shot in a robbery.\",\n",
       " 'InputSentence4': 'The incident caused him to turn a new leaf.',\n",
       " 'RandomFifthSentenceQuiz1': 'He is happy now.',\n",
       " 'RandomFifthSentenceQuiz2': 'He joined a gang.',\n",
       " 'AnswerRightEnding': '1'}"
      ]
     },
     "execution_count": 1,
     "metadata": {},
     "output_type": "execute_result"
    }
   ],
   "source": [
    "import csv\n",
    "import os\n",
    "res_output_path = \"_data/\"\n",
    "os.makedirs(res_output_path, exist_ok=True)\n",
    "input_path = \"/private/home/tbmihaylov/fairseq-xlmg/examples/few_shot/data/storycloze/winter2018.test.csv\"\n",
    "input_path = \"/private/home/tbmihaylov/fairseq-xlmg/examples/few_shot/data/storycloze/winter2018.val.csv\"\n",
    "items_to_export = 0\n",
    "\n",
    "input_data = []\n",
    "for item in csv.DictReader(open(input_path)):\n",
    "    input_data.append(item)\n",
    "if items_to_export <= 0:\n",
    "    items_to_export = len(input_data) \n",
    "\n",
    "output_path = res_output_path+ os.path.basename(input_path)+f\"{items_to_export:04}.tsv\"\n",
    "input_data[0]"
   ]
  },
  {
   "cell_type": "code",
   "execution_count": 2,
   "metadata": {},
   "outputs": [
    {
     "name": "stdout",
     "output_type": "stream",
     "text": [
      "Total items:1571\n",
      "Items to export:1571\n",
      "Data exported to:\n",
      "/private/home/tbmihaylov/fairseq-xlmg/examples/few_shot/scripts/task_translation/_data/winter2018.val.csv1571.tsv\n"
     ]
    }
   ],
   "source": [
    "\n",
    "\n",
    "new_items = []\n",
    "for item in input_data:\n",
    "    new_item = {\n",
    "        \"id\": item[\"InputStoryid\"],\n",
    "        \"story_text\": \"\\n\".join([item[x].strip() for x in ['InputSentence1', 'InputSentence2', 'InputSentence3', 'InputSentence4']]),\n",
    "        \"ending1\": item['RandomFifthSentenceQuiz1'],\n",
    "        \"ending2\": item['RandomFifthSentenceQuiz2'],\n",
    "        \"correct_ending\": item.get('AnswerRightEnding', \"unk\")\n",
    "    }\n",
    "    new_items.append(new_item)\n",
    "    #print(new_item)\n",
    "     \n",
    "print(f\"Total items:{len(new_items)}\")\n",
    "new_items = new_items[:items_to_export]\n",
    "print(f\"Items to export:{len(new_items)}\")\n",
    "\n",
    "with open(output_path, mode=\"w\") as f_out:\n",
    "    writer = csv.DictWriter(f_out, new_item.keys(), delimiter='\\t')\n",
    "    writer.writeheader()\n",
    "    writer.writerows(new_items)\n",
    "    \n",
    "print(f\"Data exported to:\\n{os.path.abspath(output_path)}\")\n",
    "        \n",
    "\n"
   ]
  },
  {
   "cell_type": "code",
   "execution_count": 3,
   "metadata": {},
   "outputs": [],
   "source": [
    "import spacy"
   ]
  },
  {
   "cell_type": "code",
   "execution_count": 4,
   "metadata": {},
   "outputs": [],
   "source": [
    "from spacy.lang.en import English\n",
    "nlp = English()\n",
    "# Create a Tokenizer with the default settings for English\n",
    "# including punctuation rules and exceptions\n",
    "tokenizer = nlp.tokenizer\n",
    "tokens = tokenizer(\"This is a sentence\")"
   ]
  },
  {
   "cell_type": "code",
   "execution_count": null,
   "metadata": {},
   "outputs": [],
   "source": []
  }
 ],
 "metadata": {
  "kernelspec": {
   "display_name": "fairseq-20210102",
   "language": "python",
   "name": "fairseq-20210102"
  },
  "language_info": {
   "codemirror_mode": {
    "name": "ipython",
    "version": 3
   },
   "file_extension": ".py",
   "mimetype": "text/x-python",
   "name": "python",
   "nbconvert_exporter": "python",
   "pygments_lexer": "ipython3",
   "version": "3.8.5"
  }
 },
 "nbformat": 4,
 "nbformat_minor": 2
}
