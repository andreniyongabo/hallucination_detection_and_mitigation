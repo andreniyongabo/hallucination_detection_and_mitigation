{
 "cells": [
  {
   "cell_type": "markdown",
   "metadata": {},
   "source": [
    "# Convert `pawsx` tsv to jsonl and fix tokenization."
   ]
  },
  {
   "cell_type": "code",
   "execution_count": 16,
   "metadata": {},
   "outputs": [
    {
     "name": "stdout",
     "output_type": "stream",
     "text": [
      "processing /private/home/tbmihaylov/fairseq-xlmg/examples/few_shot/data/paws_x/x-final/ru/dev_100.tsv\n",
      "exported to /private/home/tbmihaylov/fairseq-xlmg/examples/few_shot/data/paws_x/x-final/ru/dev_100.jsonl\n"
     ]
    }
   ],
   "source": [
    "import csv\n",
    "import os\n",
    "import json\n",
    "try:\n",
    "    from sacremoses import MosesTokenizer, MosesDetokenizer\n",
    "except ImportError:\n",
    "    raise ImportError(\n",
    "        \"Please install Moses tokenizer with: pip install sacremoses\"\n",
    "    )\n",
    "\n",
    "res_output_path = \"_data/\"\n",
    "os.makedirs(res_output_path, exist_ok=True)\n",
    "\n",
    "for lang_code in [\n",
    "                  #\"de\", \"en\", \n",
    "                  #\"es\", \"fr\", \"ja\", \"ko\", \"zh\"\n",
    "                   \"ru\", \n",
    "                 ]:\n",
    "    detok = MosesDetokenizer(lang_code)\n",
    "    for set_name in [#\"dev_2k\", \"test_2k\", \n",
    "                     #\"train\", \"translated_train\"\n",
    "                    \"dev_100\"\n",
    "                    ]:\n",
    "        input_path = f\"/private/home/tbmihaylov/fairseq-xlmg/examples/few_shot/data/paws_x/x-final/{lang_code}/{set_name}.tsv\"\n",
    "        if not os.path.exists(input_path):\n",
    "            continue\n",
    "        output_path = f\"/private/home/tbmihaylov/fairseq-xlmg/examples/few_shot/data/paws_x/x-final/{lang_code}/{set_name}.jsonl\"\n",
    "#         if os.path.exists(output_path):\n",
    "#             continue\n",
    "        input_data = []\n",
    "        print(f\"processing {input_path}\")\n",
    "        with open(output_path, mode=\"w\", encoding=\"utf-8\") as f_out:\n",
    "            columns = []\n",
    "            delim = \"\\t\"\n",
    "            for ii, line in enumerate(open(input_path)):\n",
    "                if ii == 0:\n",
    "                    columns = line.strip().split(delim)\n",
    "                    continue\n",
    "                vals = line.strip().split(delim)\n",
    "                if len(vals) != len(columns):\n",
    "                    raise Exception(f\"Item {ii} in {input_path}: values count {len(vals)} does not match columns count {len(columns)}\\n {vals}{columns} \")\n",
    "                    \n",
    "                item = {kv[0]:kv[1] for kv in zip(columns, vals)}\n",
    "                if item[\"label\"] not in {\"0\", \"1\"}:\n",
    "                    print(item)\n",
    "                    raise Exception(f\"Item {ii} in {input_path} has unknown label '{item['label']}'\")\n",
    "                \n",
    "                if lang_code == \"en\":\n",
    "                    item[\"sentence1\"] = detok.detokenize(item[\"sentence1\"].split())\n",
    "                    item[\"sentence2\"] = detok.detokenize(item[\"sentence2\"].split())\n",
    "                f_out.write(json.dumps(item, ensure_ascii=False).strip())\n",
    "                f_out.write(\"\\n\")\n",
    "        print(f\"exported to {output_path}\")\n"
   ]
  },
  {
   "cell_type": "code",
   "execution_count": 3,
   "metadata": {},
   "outputs": [],
   "source": [
    "# \n"
   ]
  },
  {
   "cell_type": "code",
   "execution_count": null,
   "metadata": {},
   "outputs": [],
   "source": []
  },
  {
   "cell_type": "code",
   "execution_count": null,
   "metadata": {},
   "outputs": [],
   "source": []
  },
  {
   "cell_type": "markdown",
   "metadata": {},
   "source": []
  }
 ],
 "metadata": {
  "kernelspec": {
   "display_name": "fairseq-20210102",
   "language": "python",
   "name": "fairseq-20210102"
  },
  "language_info": {
   "codemirror_mode": {
    "name": "ipython",
    "version": 3
   },
   "file_extension": ".py",
   "mimetype": "text/x-python",
   "name": "python",
   "nbconvert_exporter": "python",
   "pygments_lexer": "ipython3",
   "version": "3.8.5"
  }
 },
 "nbformat": 4,
 "nbformat_minor": 2
}
