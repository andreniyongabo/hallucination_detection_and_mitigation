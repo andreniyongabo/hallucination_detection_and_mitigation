{
 "cells": [
  {
   "cell_type": "code",
   "execution_count": 14,
   "metadata": {},
   "outputs": [],
   "source": [
    "from collect_results import read_jsonl_file\n",
    "import json"
   ]
  },
  {
   "cell_type": "code",
   "execution_count": 22,
   "metadata": {},
   "outputs": [],
   "source": [
    "predictions_file = \"/checkpoint/tbmihaylov/few_shot/2021-06-02-CB-comparison/openbookqa_openai_curie_fs.32_t5_smpl.All_2021-06-07-13-19-40/task.openbookqa_tmp.arc_old_lang.en_calib.average_option_fs32_seed0_eval_predictions.jsonl\"\n",
    "predictions = read_jsonl_file(predictions_file)"
   ]
  },
  {
   "cell_type": "code",
   "execution_count": 32,
   "metadata": {},
   "outputs": [],
   "source": [
    "prediction = predictions[12]\n",
    "\n",
    "#print(json.dumps(prediction, indent=4))"
   ]
  },
  {
   "cell_type": "code",
   "execution_count": 33,
   "metadata": {},
   "outputs": [
    {
     "name": "stdout",
     "output_type": "stream",
     "text": [
      "A mechanism that a ____ uses is a ____ crane; pulley.\n",
      "Humans go through multiple stages in their life. First is infancy, last is being an adult.\n",
      "Disposition is the process of forming what? It is salactites.\n",
      "Opposite the winter solstice, the summer solstice features longer daylight.\n",
      "Which would mandate replacing natural resources? It is overlogging.\n",
      "A sea creature can defend itself easily by using toxic pricks.\n",
      "what do planets orbit? It is burning hydrogen ball.\n",
      "A person wanting to avoid polluting the air will, when considering vehicles, choose a tricycle.\n",
      "A large crevasse was carved in the western United States over many years.\n",
      "Nocturnal predators hunt when? It is sleep time.\n",
      "When soil is disrupted to extreme levels environments suffer.\n",
      "Which of these is more likely to cause a fracture from swinging a mace.\n",
      "As a source of light moves directly overhead of an object , what happens to it's shadow the size will decrease.\n",
      "Which of these places is worst for growing oregano? It is cave.\n",
      "Where would jumping be the hardest? It is jupiterr.\n",
      "The strength of a hurricane increases as moisture and what increase? It is hotness.\n",
      "The field a farmer plants with varied crops over the years is richer than a field where only grain is planted.\n",
      "Which likely would suffer in the arctic? It is a lion.\n",
      "If a large boulder is kept in direct sunlight it can lose portions.\n",
      "What might damage a hard walkway that runs alongside a street? It is a tree nearby.\n",
      "Dogs reproduce differently from earthworms.\n",
      "What provides the energy to open a doorknob? It is you.\n",
      "Tectonic plates are like a large jenga.\n",
      "A person is in the forest, lost. They need to signal to others that they are there, and their voice is gone, so they need to do it inaudibly. The person may signal with fire.\n",
      "Duracell's convert chemicals to voltage.\n",
      "Predators which rely on small rodents for food will do what when rodents all die off? It is have lower numbers.\n",
      "The source of a type of energy we use is a star.\n",
      "When light enters the eye through the pupil the light falls on the what? It is optic disk.\n",
      "A polar bear has thick wooly fur so that he may thrive.\n",
      "chloroplasts are rarely found in root hair cells.\n",
      "wildfire occurs when condensed tree areas are ablaze.\n",
      "as Ford lost customers it's earnings plummeted.\n",
      "An animal can hunt by cracking open a claw.\n"
     ]
    }
   ],
   "source": [
    "for cand, cand_info in prediction[\"candidates\"]:\n",
    "    print(cand_info[\"meta\"][\"prompt\"])\n",
    "    break"
   ]
  },
  {
   "cell_type": "code",
   "execution_count": null,
   "metadata": {},
   "outputs": [],
   "source": []
  }
 ],
 "metadata": {
  "kernelspec": {
   "display_name": "fairseq-20210102",
   "language": "python",
   "name": "fairseq-20210102"
  },
  "language_info": {
   "codemirror_mode": {
    "name": "ipython",
    "version": 3
   },
   "file_extension": ".py",
   "mimetype": "text/x-python",
   "name": "python",
   "nbconvert_exporter": "python",
   "pygments_lexer": "ipython3",
   "version": "3.8.5"
  }
 },
 "nbformat": 4,
 "nbformat_minor": 2
}
