{
 "cells": [
  {
   "cell_type": "code",
   "execution_count": 8,
   "id": "d811d76f",
   "metadata": {},
   "outputs": [],
   "source": [
    "import os\n",
    "\n",
    "GEN_OUTDIR = f\"/private/home/{os.environ.get('USER')}/fairseq-py/examples/nllb/urx_study/wiki_data\"\n",
    "\n",
    "# LANGUAGES = [\"zh\"]"
   ]
  },
  {
   "cell_type": "code",
   "execution_count": 9,
   "id": "50b814f2",
   "metadata": {},
   "outputs": [],
   "source": [
    "LANG = 'azj'\n",
    "LANG2 = 'az'\n",
    "# LANG = 'english'\n",
    "# LANG2 = 'english'"
   ]
  },
  {
   "cell_type": "code",
   "execution_count": 10,
   "id": "0489a9a2",
   "metadata": {},
   "outputs": [
    {
     "name": "stdout",
     "output_type": "stream",
     "text": [
      "/private/home/dlicht/fairseq-py/examples/nllb/urx_study/scripts\r\n"
     ]
    }
   ],
   "source": [
    "!pwd"
   ]
  },
  {
   "cell_type": "code",
   "execution_count": 11,
   "id": "6c272a55",
   "metadata": {},
   "outputs": [
    {
     "name": "stdout",
     "output_type": "stream",
     "text": [
      "mkdir: cannot create directory ‘../wiki_data/azj’: File exists\r\n"
     ]
    }
   ],
   "source": [
    "!mkdir ../wiki_data/{LANG}"
   ]
  },
  {
   "cell_type": "code",
   "execution_count": 13,
   "id": "7821f764",
   "metadata": {},
   "outputs": [
    {
     "data": {
      "text/plain": [
       "['Birləşmiş Ştatlar Base',\n",
       " 'Line Dansı',\n",
       " 'Şimali okean',\n",
       " 'B vitaminləri',\n",
       " 'Mesopotamiya tarixində',\n",
       " 'Balıqçılıq',\n",
       " 'multiplikasiyası',\n",
       " 'Dinozaurlar',\n",
       " 'İnsanlıq',\n",
       " 'Etiketlər',\n",
       " 'Buddizmdə',\n",
       " 'Sovet dövlətləri',\n",
       " 'Programlama dilləri',\n",
       " 'Əvvəlki Migrasiyalar',\n",
       " 'Kaynaqları',\n",
       " 'Mesopotamiya haqqında ətraflı məlumat',\n",
       " 'Tarixi',\n",
       " 'Ümumiyyətlə Description',\n",
       " 'Etika fəlsəfi',\n",
       " 'Dünya görüşü',\n",
       " 'Tanımışlıq',\n",
       " 'Definisiyaları',\n",
       " 'İsimlər və simvollar bir nəfərin adını çəkən simvollar istisna olmaqla, başlıqlarla yazılır. Məsələn, metr (Amerikalı İngilis: meter) simvolu m, ancaq kelvin simvolu K, çünki Lord Kelvin adına adlandırılır və A simvolu olan amper André-Marie Ampère adına adlandırılır.',\n",
       " 'Line dansı country-western dans barlarında, sosial klublarda, dans klublarında və ballroomlarda praktika və öyrənilir. O, bəzən country-western dansının digər formaları ilə, iki-step, western promenad dansları və waltz, polka və swing kimi western stil variantları ilə dans proqramlarında birləşir. Line dansları 1970-ci illərin başından bu yana pop, swing, rock and roll, disko, latin (salsa suelta), ritm və blues və jazz kimi çox məşhur musiqi stillərinə eşidiblər.',\n",
       " \"Tarix öncəsi Pasifik okeanında böyük migrasiyalar yaşanmışdır. Modern insanlar ilk dəfə 60.000-70.000 il öncə Paleolit dövründə Pasifik okeanına çatdılar. Afrika sahilindəki ilk insan səyahətindən başlayaraq, onlar Sundaland və Sahul'un sular altında qalan torpaq köprülərindən Filippinlərə, Yeni Gineyaya və Avstraliyaya çatdılar. Bu ilki səyahətlərin sonrakıları Avstraliya-Melanesiya xalqlarıdır (Negritos, Papuanlar və Yerli Avstraliyalılar da var). Bu qrupların heç bir gəmisi və ya səyahət texnologiyası yoxdur və yalnız qısa su aralığından keçə bilərdilər. Yeni Gine və Melanesiya adasındakı populasiyalar daha sonra gələn Avstroneziya kolonistləri ilə evləndi, bu da Cənubi Asiya və Okeaniya adasındakı modern insanlara səbəb oldu.\",\n",
       " 'B vitamini suya bulaqdır, çünki onların çoxu tez-tez çıxarılır, lakin bireysel absorbsiyası, istifadə və metabolizm dəyişə bilər. Yaşlılar və idmançılar enerji istehsalında problemlər və artan ehtiyacları nedeniyle B12 və digər B vitamini qəbulunu tamamlamanıza ehtiyac var. Şiddətli yetkinlik durumunda, B vitamini, xüsusilə B12, də injection reverse deficiencies üçün çatdırılabilir. Hər iki tip 1 və tip 2 diabetçilərə diabetlə əlaqəli düşük plazma tiamin konsentrasiyasının və artan tiamin clearance-in yüksək prevalansı əsasında tiamin əlavə etmək də tövsiyə edilə bilər. “Vitamin B9 (folik asid) eksikliyi embriyonun erken inkişafında neuron tubus defektləri ilə əlaqələndirilmişdir. Buna görə də, hamile olmaq istəyən qadınlar həmişə gündəlik folik asit alımını artırmaq və / və ya bir əlavə almaq üçün təşviq edilir.',\n",
       " '“Mesopotamiya” antik Yunan dilində “sular arasında” deməkdir. Mesopotamiya adının tanınmış ən qədim başlanğıcı IV əsr BC-yə qədərdir, o zaman Suriyanın şimalında Eufratdan şərqdə olan yeri adlandırmaq üçün istifadə edilmişdir. Daha sonra o, Eufrat və Tigris arasındakı bütün torpaqlara daha geniş şəkildə tətbiq edildi və bununla yalnız Suriyanın bir hissəsini deyil, həm də İraqın və Türkiyənin cənub-şərqinin hamısını da əhatə etdi. Eufratın batısına yaxın steplər və Zagros Dağlarının batı hissəsi də tez-tez daha geniş terminə Mesopotamiya daxil edilir. Üst və ya Şimali Mesopotamiya və Aşağı və ya Cənubi Mesopotamiya arasında fərqlənir.',\n",
       " 'Balıqçılıq ən azından 40.000 il əvvəl Üst Paleolit dövrünün başlanğıcına qədər uzanan antik bir praktikadır. Tianyuan adamının, 40.000 il əvvəl doğulduğu Asiya ölkəsindən gələn modern insanın qalanlarının izotopik analizi göstərdi ki, o, həmişə taze sularda balıq yeyirdi. Arxeoloji xüsusiyyətlər, örnək orta, atılmış balıq sümükləri və mağara şəkləri, dəniz qidalarının hayatta qalmaq üçün vacib olduğunu və əhəmiyyətli miqdarda tüketildiyini göstərir. Afrikada balıqçılıq insan tarixinin başlanğıcındadır. Neandertallılar 200 000 il öncə balıqçılıq edirdilər. İnsanlar daha çox balığı daha böyük miqdarda tutmaq üçün daha çox balıq tutmaq üçün balıq ağları yaratmaq üçün balıq tuşları, spinning və başlanğıc formaları hazırlaya bilərdi.',\n",
       " 'Çoğalmanın qarşısı isə bölünmüdür. Məsələn, 4 sayının 3 ilə bərabər olduğu üçün, 12 sayının 3 ilə bərabər olduğu üçün, 12 sayının 4 sayına bərabərdir. Üçüncüsü, 3 sayının artırılması, sonra da 3 sayının bölünməsi başlanğıc sayıdır. 0-dan başqa bir sayın bölünməsi 1 ilə bərabərdir.',\n",
       " '2016-cı ildə Mesozoika dövründə yaşayan dinozavr növlərinin sayı 1,543-2,468-ə çatmışdır. 2021-ci ildə bir çox nüvə quşlarının sayı 10,806 nəfərə çatacaq. Onlardan bəziləri bitki yeməkləri, bəziləri meyvə yeməkləri, balıq yeməkləri, insektisitorlar və omnivorlar. Dinosaurların (təbii ki, bütün modern quşların) atası ikili olmasına baxmayaraq, bəzi prehistorik növlər dörd ayaqlı idi, digərləri isə Anchisaurus və Iguanodon kimi, iki və ya dörd ayaqlı kimi asanlıqla gedə bilərdi. Qraniyal modifikasiyalar, örnəklər və crests dinozaurların yaygın xüsusiyyətləridir, və bəzi tüstü türləri xəsarət vardı. Mezozoik dinozaurların çoxu insan ölçüsü və ya daha kiçik idi, modern quşlar isə böyük ölçüdə idi. Dinosaurlar bu gün hər bir kontinentdə yaşayır və fosillər onların ən azından Jurassik dövrünün başlanğıcı ilə dünya səviyyəsində dağılımı əldə etdiklərini göstərir. Modern quşlar, torpaqdan dənizə qədər mövcud olan habitatların əksəriyyətini əhatə edir və bəzi uçmayan dinozorların (Microraptor kimi) uçmaq və ya ən azından səyahət edə biləcəyinə dair dəlillər var və digərləri, Spinozauridlər kimi, semiaquatic alış-verişləri vardı.',\n",
       " 'Genlər və mühit insanın görünən xüsusiyyətləri, fizyologiya, xəstəlikə yatkınlıq, psixi qabiliyyətlər, bədən ölçüsü və ömrü ilə bağlı bioloji dəyişikliklərə təsir edir. İnsanlar çoxlu xüsusiyyətlərdə (genetik predispozisiyalar və fiziki xüsusiyyətlər kimi) fərq olsa da, iki insan ortalama 99%-dən çox eynidır, ən genetik olaraq müxtəlif populasiyalar Afrikadan gəlir. Ən çox genetik dəyişiklik qadınlar və kişilər arasında olur. Ortalama olaraq, kişilər daha böyük bədən gücü və qadınlar daha yüksək bədən yağ yüzdəsi var. Qadınlar menopozdan keçiblər və həyatlarının sona çatmasından öncə on illər infertil olurlar. Onlar da dünyanın hər yerində hər bir nüfusa daha uzun ömürlüdür. Tarixdə kişilər və qadınlar arasındakı cinsi rolu bölünməsi dəyişib və çoxsaylı toplumlarda dominant cinsi normlara meydan okumalar baş verib.',\n",
       " 'Virtue etika, etik davranışın sürücüsü kimi bir əxlaqsız agentin karakteri təsvir edir və Sokrates və Aristoteles kimi ilk Yunan filosoflarının və Valluvar kimi antik Hindistan filosoflarının etiklərini təsvir etmək üçün istifadə olunur. SOCRATES (469-399 BC) ilk yunan filosoflarından biri idi ki, həm alimləri, həm də sıradan insanı insanlığın vəziyyətinə baxışdan yönəltməyə teşvik etdi. Bu baxımdan, insan həyatına aid olan bilik ən yüksək səviyyədə idi, digər bütün biliklər isə ikinciliydi. Düşünürdüm ki, özü bilmək, özü bilmək üçün çox faydalı və vacibdir. Özü bilən bir insan öz imkanları ilə tamamilə öz zirvəsinə qədər hərəkət edər, ancaq bilmədiyi bir insan çökər və çətinliklərlə üzləşər. SOCRATES-a görə, bir insan özü bilmək istəyirsə, varoluşunun hər bir faktının (və onun kontekstinin) bilincində olmalıdır. O qeyd etdi ki, insanlar yaxşı olanı bildikləri zaman doğal olaraq yaxşılıq edəcəklər. Əgər bir kriminalist öz əməllərinin intellektual və ruhsal nəticələrini həqiqətən bilsə, bu əməlləri nə edər, nə də düşünər. Demək olar ki, SOCRATES-in dediyinə görə, hər kəs doğru olanı bilsə, bunu otomatik olaraq edər. Bildiyinə görə, o, bu sahədə də yaxşı iş görmüşdür. “Həqiqətən hikmətli insan doğru olanı biləcək, yaxşı olanı edəcək və buna görə də xoşbəxt olacaqdır.”',\n",
       " '“Dukha”nın həqiqəti, bu dünyadakı həyatın, impermanent vəziyyətlərə və şeylərə bağlılığı və arzusu ilə dukha olduğunu və məmnunlaşmadığını öyrənməkdir. Dukkha “doldurmaya qadir olmayan”, “təffaf olmayan və bütün conditioned fenomenlərin ümumi təhlükəsizliyi” və ya “ağrılı” kimi tərcümə edilə bilər. Dubay polisinin idarə etdiyi superkarlar – bu, artıq çox adi bir hala çevrilib. Biz xoşbəxtliyi impermanent olan və buna görə də həqiqi xoşbəxtliyi əldə edə bilməyən vəziyyətlərdən və şeylərdən gözləyirik.',\n",
       " '“Devletin tanınması, müstəqil bir dövlətin başqa bir dövlət kimi davranmağı deməkdir. Təsadüfi deyil ki, bu, reallaşdırılmalı və reallaşdırılmalıdır, ancaq reallaşdırılmalıdır. Bu, diplomatik əlaqələrin qurulması və ya bərpa edilməsinin istəyi anlamına gəlmir.',\n",
       " 'Bir kompüter programlama dili kompüter proqramlarını yazmaq üçün istifadə olunan bir dildir, bu da kompüterin kompüter və ya algoritmanın bir növünü yerinə yetirir və mümkünliklə printerlər, disk sürücüləri, robotlar və s. kimi xarici cihazları idarə edir. Məsələn, PostScript proqramları tez-tez kompüter printerini və ya ekranı idarə etmək üçün başqa bir proqram tərəfindən yaradılır. Daha ətraflı, bir programlama dili bir neçə, bəlkə də abstrakt, maşın hesablaması təsvir edə bilər. Ümumiyyətlə, bir programlama dili üçün tam spesifikasiyası, bu dili üçün bir maşın və ya prosessorun idealizasiya edilmiş bir təsvirini daxildir. Çoğu praktiki kontekstdə, bir proqramlaşdırma dili kompüter ilə əlaqələndirilir; buna görə də, proqramlaşdırma dilləri adətən bu şəkildə tanımlanır və öyrənilir. Programlama dilləri yalnız insanlar arasındakı interaksiya üçün istifadə olunur, lakin programlama dilləri də insanların maşınlara tövsiyələr verməsinə imkan verir.',\n",
       " 'Bir neçə digər ünsürlər, belə ki, litr (ABŞ İngilis dili: litr), astronomik ünsür və elektronvolt, SI-nin formalaşmış hissəsi deyil, lakin SI-də istifadə üçün qəbul olunur.',\n",
       " '“Cha Cha Slide”, “Electric Slide” və “Cupid Shuffle” kimi danslar uzun illərdir amerikalı musiqinin bir parçası olmuşdur. \"Modern line dance\" terminu bu gün dünyanın bir çox line dance klublarında istifadə olunur ki, öyrəniləcək dans stilləri pop, latin, irland, big band və country da daxil olmaqla bütün genrlərin bir mixini daxildir. Bu, klubların artık batılı stil giysiləri və ya botları giyməyəcəyini göstərir. Gənc futbolçular çox vaxt kostyum giydirir və oyunçularla oynayırlar. Bu klublar gənc insanları çoxdan tanıdıqları musiqi ilə dans edərək hobi içində canlandırmağa kömək edir.',\n",
       " 'Multiplikasiya, kompleks sayı və matrislər kimi daha abstrakt konstruktlar kimi digər sayı növləri üçün də müəyyən edilir. Bu daha abstrakt konstruksiyaların bir qismi üçün operandların bir-birinə multiplikasiyası vacibdir. Matematikada istifadə olunan çoxsaylı məhsulların siyahısı Product (Matematik) saytındadır.',\n",
       " '2016-cı ildə Mesozoika dövründə yaşayan dinozavr növlərinin sayı 1,543-2,468-ə çatmışdır. 2021-ci ildə bir çox nüvə quşlarının sayı 10,806 nəfərə çatacaq. Onlardan bəziləri bitki yeməkləri, bəziləri meyvə yeməkləri, balıq yeməkləri, insektisitorlar və omnivorlar. Dinosaurların (təbii ki, bütün modern quşların) atası ikili olmasına baxmayaraq, bəzi prehistorik növlər dörd ayaqlı idi, digərləri isə Anchisaurus və Iguanodon kimi, iki və ya dörd ayaqlı kimi asanlıqla gedə bilərdi. Qraniyal modifikasiyalar, örnəklər və crests dinozaurların yaygın xüsusiyyətləridir, və bəzi tüstü türləri xəsarət vardı. Mezozoik dinozaurların çoxu insan ölçüsü və ya daha kiçik idi, modern quşlar isə böyük ölçüdə idi. Dinosaurlar bu gün hər bir kontinentdə yaşayır və fosillər onların ən azından Jurassik dövrünün başlanğıcı ilə dünya səviyyəsində dağılımı əldə etdiklərini göstərir. Modern quşlar, torpaqdan dənizə qədər mövcud olan habitatların əksəriyyətini əhatə edir və bəzi uçmayan dinozorların (Microraptor kimi) uçmaq və ya ən azından səyahət edə biləcəyinə dair dəlillər var və digərləri, Spinozauridlər kimi, semiaquatic alış-verişləri vardı.',\n",
       " 'İnsanlar hər şeyi yeyirlər, bitki və heyvan materiallarının geniş bir çeşidini istifadə edə bilərlər və H. erectus vaxtından bu yana yemək hazırlamaq və qidalanmaq üçün atəş istifadə etmişlər. Yemək olmadan 8 aydır, su olmadan 3-4 gün yaşayırlar. İnsanlar gündə ortalama 7-9 saat yatırlar. Doğum riski çoxdur, komplikasiyalar və ölüm riski də çoxdur. Amma valideynlər və valideynlər uşaqlara kömək edə bilmirlər.',\n",
       " 'Budizmdə dukkha, impermanentlik və anattā (özümsüzlük) ilə birlikdə varlığın üç işarətindən biridir. Budizm, digər böyük Hind dinləri kimi, hər şeyin əbədi olmadığını iddia edir (anicca), lakin onlardan fərqli olaraq, canlı varlıqlarda əbədi bir öz və ya ruh olmadığını iddia edir (anattā). “İnformasiya” və ya “İnformasiya” sisteminin yaradılmasında və ya yaradılmasında əsas rol oynayan elementlər arasında “İnformasiya” və ya “İnformasiya” sistemidir.',\n",
       " 'Ümumiyyətlə, bütün Avropa ölkələri üçün ictimaiyyətin formalaşması lazım deyil. Əslində, standartlar siyasi deyil, legal standartlardır. L.C.Green, Birinci Dünya Müharibəsində doğulmamış Polşa və Çexoslovak dövlətlərinin tanınmasından danışdı və belə izah etdi: “Devletlik tanınması özü üçün bir hökmdür, hər hansı bir dövlət istədiyi hər hansı bir varlığı dövlət olaraq qəbul etmək üçün açıqdır, hər hansı bir ərazinin və ya yaradılmış bir dövlətin varlığına baxmayaraq”. İnternational.az xəbər verir ki, bu barədə bir neçə ölkədən məlumat verilib.']"
      ]
     },
     "execution_count": 13,
     "metadata": {},
     "output_type": "execute_result"
    }
   ],
   "source": [
    "with open(f\"{GEN_OUTDIR}/{LANG2}_paragraphs.txt\") as f:\n",
    "    paragraph_data = [line.strip() for line in f.readlines()]\n",
    "paragraph_data"
   ]
  },
  {
   "cell_type": "code",
   "execution_count": 14,
   "id": "f24c3b27",
   "metadata": {},
   "outputs": [],
   "source": [
    "par_line_dict = {\n",
    "    # filename (without .txt) : row_number in xx_paragraphs file (starts with 1, not 0)\n",
    "    'B_vitamins': 26,\n",
    "    'Buddhism': 33,  #there are two buddhism paragraphs, this one matches https://github.com/sturdypancake/886725109bb74cbeb2b2dd82d42380ed/blob/main/translation_template/xyz/Buddhism.txt\n",
    "    'Dinosaur': 39,\n",
    "    'Ethics': 32,\n",
    "    'Fishing': 28,\n",
    "    'History_of_Mesopotamia': 27,\n",
    "    'Human': 31, #multiple human paragraphs\n",
    "    'Line_dance': 24,\n",
    "    'Multiplication': 29, #multiple human paragraphs\n",
    "    'Pacific_Ocean': 25,\n",
    "    'Programming_language': 35,\n",
    "    'SI_base_unit': 23,\n",
    "    'Sovereign_state': 34,   \n",
    "                }"
   ]
  },
  {
   "cell_type": "code",
   "execution_count": 15,
   "id": "efca9a61",
   "metadata": {},
   "outputs": [
    {
     "data": {
      "text/plain": [
       "\"Tarix öncəsi Pasifik okeanında böyük migrasiyalar yaşanmışdır. Modern insanlar ilk dəfə 60.000-70.000 il öncə Paleolit dövründə Pasifik okeanına çatdılar. Afrika sahilindəki ilk insan səyahətindən başlayaraq, onlar Sundaland və Sahul'un sular altında qalan torpaq köprülərindən Filippinlərə, Yeni Gineyaya və Avstraliyaya çatdılar. Bu ilki səyahətlərin sonrakıları Avstraliya-Melanesiya xalqlarıdır (Negritos, Papuanlar və Yerli Avstraliyalılar da var). Bu qrupların heç bir gəmisi və ya səyahət texnologiyası yoxdur və yalnız qısa su aralığından keçə bilərdilər. Yeni Gine və Melanesiya adasındakı populasiyalar daha sonra gələn Avstroneziya kolonistləri ilə evləndi, bu da Cənubi Asiya və Okeaniya adasındakı modern insanlara səbəb oldu.\""
      ]
     },
     "execution_count": 15,
     "metadata": {},
     "output_type": "execute_result"
    }
   ],
   "source": [
    "paragraph_data[par_line_dict['Pacific_Ocean']-1]"
   ]
  },
  {
   "cell_type": "code",
   "execution_count": 16,
   "id": "4da8488b",
   "metadata": {},
   "outputs": [
    {
     "name": "stdout",
     "output_type": "stream",
     "text": [
      "B_vitamins  -> B vitamini suya bulaqdır, çünki onların çoxu tez-t ...\n",
      "\n",
      "Buddhism  -> “Dukha”nın həqiqəti, bu dünyadakı həyatın, imperma ...\n",
      "\n",
      "Dinosaur  -> 2016-cı ildə Mesozoika dövründə yaşayan dinozavr n ...\n",
      "\n",
      "Ethics  -> Virtue etika, etik davranışın sürücüsü kimi bir əx ...\n",
      "\n",
      "Fishing  -> Balıqçılıq ən azından 40.000 il əvvəl Üst Paleolit ...\n",
      "\n",
      "History_of_Mesopotamia  -> “Mesopotamiya” antik Yunan dilində “sular arasında ...\n",
      "\n",
      "Human  -> Genlər və mühit insanın görünən xüsusiyyətləri, fi ...\n",
      "\n",
      "Line_dance  -> Line dansı country-western dans barlarında, sosial ...\n",
      "\n",
      "Multiplication  -> Çoğalmanın qarşısı isə bölünmüdür. Məsələn, 4 sayı ...\n",
      "\n",
      "Pacific_Ocean  -> Tarix öncəsi Pasifik okeanında böyük migrasiyalar  ...\n",
      "\n",
      "Programming_language  -> Bir kompüter programlama dili kompüter proqramları ...\n",
      "\n",
      "SI_base_unit  -> İsimlər və simvollar bir nəfərin adını çəkən simvo ...\n",
      "\n",
      "Sovereign_state  -> “Devletin tanınması, müstəqil bir dövlətin başqa b ...\n",
      "\n"
     ]
    }
   ],
   "source": [
    "for par_name in par_line_dict.keys():\n",
    "    with open(f\"{GEN_OUTDIR}/{LANG}/{par_name}.txt\", \"w\") as o:\n",
    "        line = paragraph_data[par_line_dict[par_name] - 1]\n",
    "        print(par_name,' ->',line[0:50],'...\\n')\n",
    "        o.write(f\"{line}\")"
   ]
  },
  {
   "cell_type": "code",
   "execution_count": null,
   "id": "14271284",
   "metadata": {},
   "outputs": [],
   "source": []
  },
  {
   "cell_type": "code",
   "execution_count": null,
   "id": "97f727cd",
   "metadata": {},
   "outputs": [],
   "source": []
  }
 ],
 "metadata": {
  "interpreter": {
   "hash": "4ccb7cd68690679dd5d7d3f30c3d365129b33d04d5859ba365dd13f6c41f0131"
  },
  "kernelspec": {
   "display_name": "Python 3",
   "language": "python",
   "name": "python3"
  },
  "language_info": {
   "codemirror_mode": {
    "name": "ipython",
    "version": 3
   },
   "file_extension": ".py",
   "mimetype": "text/x-python",
   "name": "python",
   "nbconvert_exporter": "python",
   "pygments_lexer": "ipython3",
   "version": "3.8.8"
  }
 },
 "nbformat": 4,
 "nbformat_minor": 5
}
